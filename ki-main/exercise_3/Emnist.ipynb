{
 "cells": [
  {
   "cell_type": "markdown",
   "id": "1bca65b3-9679-4269-96e0-5f501b5c3f6a",
   "metadata": {},
   "source": [
    "# Transfer learning\n",
    "\n",
    "Das Ziel des Transferlearning ist es, ein bereits trainiertes Modell auf eine andere Aufgabe zu trainieren. Die Idee dahinter ist den Teil des Netzwerks, der für die Extraktion von Merkmalen zuständig ist, zu \"recyceln\". Da dies in der Regel der teuerste Teil des Trainings ist, spart man sich dadurch eine Menge an Zeit. Das bedeutet, dass dieser Teil nicht neu trainiert werden muss, sondern die bereits trainierte Featurextraktion genauso gut für eine ähnliche Aufgabe verwendet werden kann. Aus diesem Grund sollte man ein bereits trainiertes Netzwerk nutzen, welches für eine ähnliche Aufgabe trainiert wurde. Lediglich die Klassifikationsschicht wird neu trainiert. Ziel dieses Notebooks ist es, ein Verständnis zu bekommen, was beim Transferlearning passiert.\n",
    "\n",
    "Schauen Sie sich folgendes Notebook an und versuchen Sie den groben Ablauf zu verstehen.\n",
    "Sie werden die meisten Befehle die Sie benötigen darin finden.\n",
    "https://www.tensorflow.org/tutorials/images/transfer_learning\n",
    "\n",
    "Für diese Aufgabe wollen wir das in der letzten Aufgabe trainierte Convolutional Neural Network, welches auf dem Mnist Datensatz trainiert wurde, auf eine andere Aufgabe trainieren. Die Aufgabe des Netzwerks soll es sein, Hexadezimalzahlen zu erkennen.\n",
    "Hierzu verwenden wir den $\\textit{emnist}$ Datensatz. Dieser beinhaltet zusätzlich das Alphabet (große und kleine Buchstaben). Näheres dazu unter https://pypi.org/project/emnist/ \n",
    "\n",
    "Gehen Sie dazu wie folgt vor:\n",
    "\n",
    "    * Laden Sie ihr Modell aus der vorherigen Aufgabe mit tf.keras.models.load_model(\"Name des Modells\") Falls Sie ihr Modell nicht gespeichert hatten, können Sie dies mit model.save(\"Name des Modells\"), nachdem Sie erneut trainiert haben, tun.\n",
    "      \n",
    "    * Bereiten Sie den emnist-Datensatz wie in der vorherigen Aufgabe vor und sortieren Sie alle Kleinbuchstaben sowie alle Buchstaben, die nicht der Hexadezimalschreibweise angehören, aus!\n",
    "      \n",
    "    * Laden Sie das zuvor gespeicherte Modell und entfernen Sie die letzte Schicht ( model.pop() )\n",
    "    \n",
    "    * Frieren Sie das Modell ein, d.h. Sie setzen die Layer auf nicht trainierbar\n",
    "    \n",
    "    * Fügen Sie eine neue Schicht hinzu, sodass die verschiedenen Klassen (0-F) klassifiziert werden können (Wir beschränken uns hier auf die groß geschriebenen Buchstaben)\n",
    "    \n",
    "    * Trainieren Sie das Netzwerk mit den transformierten Labels\n",
    "    \n",
    "    * Plotten Sie wieder die Trainingskurven und erstellen sie eine confusion Matrix"
   ]
  },
  {
   "cell_type": "code",
   "execution_count": 127,
   "id": "099b0031-b03b-48e7-96aa-97f0c491a06d",
   "metadata": {},
   "outputs": [],
   "source": [
    "import matplotlib.pyplot as plt\n",
    "import numpy as np\n",
    "import os\n",
    "import tensorflow as tf\n",
    "from sklearn.metrics import confusion_matrix \n",
    "from extra_keras_datasets import emnist\n",
    "import tensorflow.keras as keras\n",
    "from tensorflow.keras.models import Sequential\n",
    "from tensorflow.keras.layers import Dense, Convolution2D, MaxPooling2D, Flatten , Activation\n",
    "from tensorflow.keras.utils import to_categorical \n",
    "from tensorflow.keras import optimizers"
   ]
  },
  {
   "cell_type": "code",
   "execution_count": 128,
   "id": "28c85969-93c8-4ec0-aeaf-91f4c8eb2582",
   "metadata": {},
   "outputs": [
    {
     "name": "stderr",
     "output_type": "stream",
     "text": [
      "INFO:root:Loading dataset = emnist\n",
      "WARNING:root:Please cite the following paper when using or referencing this Extra Keras Dataset:\n",
      "WARNING:root:Cohen, G., Afshar, S., Tapson, J., & van Schaik, A. (2017). EMNIST: an extension of MNIST to handwritten letters. Retrieved from http://arxiv.org/abs/1702.05373\n"
     ]
    },
    {
     "name": "stdout",
     "output_type": "stream",
     "text": [
      "(112800, 28, 28)\n",
      "(112800,)\n",
      "(18800, 28, 28)\n",
      "(18800,)\n"
     ]
    }
   ],
   "source": [
    "# Vorbereiten von Nist\n",
    "(x_train, y_train), (x_test, y_test) = emnist.load_data(type='balanced')\n",
    "print(x_train.shape)\n",
    "print(y_train.shape)\n",
    "print(x_test.shape)\n",
    "print(y_test.shape)"
   ]
  },
  {
   "cell_type": "code",
   "execution_count": 129,
   "id": "ac470803",
   "metadata": {},
   "outputs": [
    {
     "name": "stdout",
     "output_type": "stream",
     "text": [
      "(38400, 28, 28)\n",
      "(38400,)\n",
      "(6400, 28, 28)\n",
      "(6400,)\n"
     ]
    }
   ],
   "source": [
    "# Sortieren Sie alle Ziffern aus, die unerwünscht sind!\n",
    "# Hinweis: np.where ist hierfür recht Hilfreich\n",
    "\n",
    "# Trainingsdaten sortieren\n",
    "x_train_hex = list()\n",
    "y_train_hex = list()\n",
    "for i in range(0,112800):\n",
    "    if y_train[i] < 16:\n",
    "        x_train_hex.append(x_train[i,:,:])\n",
    "        y_train_hex.append(y_train[i])\n",
    "x_train_hex = np.array(x_train_hex)\n",
    "y_train_hex = np.array(y_train_hex)\n",
    "\n",
    "# Testdaten sortieren\n",
    "x_test_hex = list()\n",
    "y_test_hex = list()\n",
    "for i in range(0,18800):\n",
    "    if y_test[i] < 16:\n",
    "        x_test_hex.append(x_test[i,:,:])\n",
    "        y_test_hex.append(y_test[i])\n",
    "x_test_hex = np.array(x_test_hex)\n",
    "y_test_hex = np.array(y_test_hex)\n",
    "\n",
    "\n",
    "print(x_train_hex.shape)\n",
    "print(y_train_hex.shape)\n",
    "print(x_test_hex.shape)\n",
    "print(y_test_hex.shape)"
   ]
  },
  {
   "cell_type": "code",
   "execution_count": 130,
   "id": "a2986b36-7340-4dd3-b659-a2663682d303",
   "metadata": {},
   "outputs": [
    {
     "name": "stderr",
     "output_type": "stream",
     "text": [
      "<ipython-input-130-fa68b64742ad>:6: DeprecationWarning: `np.str` is a deprecated alias for the builtin `str`. To silence this warning, use `str` by itself. Doing this will not modify any behavior and is safe. If you specifically wanted the numpy scalar type, use `np.str_` here.\n",
      "Deprecated in NumPy 1.20; for more details and guidance: https://numpy.org/devdocs/release/1.20.0-notes.html#deprecations\n",
      "  plt.title('true label: '+np.str(y_train_hex[i]))\n"
     ]
    },
    {
     "data": {
      "image/png": "[encoded data removed]",
      "text/plain": [
       "<Figure size 864x864 with 4 Axes>"
      ]
     },
     "metadata": {
      "needs_background": "light"
     },
     "output_type": "display_data"
    }
   ],
   "source": [
    "# Plotten Sie hier ein paar Ziffern!\n",
    "plt.figure(figsize=(12,12))\n",
    "for i in range(0,4):\n",
    "    plt.subplot(1,4,(i+1))\n",
    "    plt.imshow((x_train_hex[i,:,:]),cmap=\"gray\")\n",
    "    plt.title('true label: '+np.str(y_train_hex[i]))\n",
    "    #plt.axis('off')"
   ]
  },
  {
   "cell_type": "code",
   "execution_count": 131,
   "id": "8c1aada7-698e-4cf8-84e3-a5de1c0f4493",
   "metadata": {},
   "outputs": [
    {
     "name": "stdout",
     "output_type": "stream",
     "text": [
      "(38400, 28, 28, 1)\n",
      "(6400, 28, 28, 1)\n",
      "(38400, 16)\n",
      "(6400, 16)\n"
     ]
    }
   ],
   "source": [
    "# Normalisieren Sie das Set und bringen es in die richtige \"shape\"\n",
    "\n",
    "X_train=x_train_hex / 255 #divide by 255 so that they are in range 0 to 1\n",
    "Y_train=keras.utils.to_categorical(y_train_hex, 16) # one-hot encoding\n",
    "\n",
    "X_test=x_test_hex / 255\n",
    "Y_test=keras.utils.to_categorical(y_test_hex, 16)\n",
    "\n",
    "X_train=np.reshape(X_train, (X_train.shape[0],28,28,1))\n",
    "X_test=np.reshape(X_test, (X_test.shape[0],28,28,1))\n",
    "\n",
    "print(X_train.shape)\n",
    "print(X_test.shape)\n",
    "print(Y_train.shape)\n",
    "print(Y_test.shape)"
   ]
  },
  {
   "cell_type": "code",
   "execution_count": 132,
   "id": "5cda1cfa-672f-4dff-93f8-c3d67c76957b",
   "metadata": {},
   "outputs": [],
   "source": [
    "# Laden des Modells\n",
    "base_model = tf.keras.models.load_model('cnn_mnist')\n",
    "model = tf.keras.models.load_model('cnn_mnist')\n",
    "\n",
    "#Hier die letzte Schicht entfernen\n",
    "model.pop()"
   ]
  },
  {
   "cell_type": "code",
   "execution_count": 133,
   "id": "371cb421-f1f2-47b6-90d6-4cf99b451618",
   "metadata": {},
   "outputs": [],
   "source": [
    "\n",
    "# Modell einfrieren\n",
    "# model.trainable=False\n",
    "\n",
    "# Basismodell als Ausgangspunkt nehmen\n",
    "# inputs = tf.keras.Input(shape=(28, 28,1))\n",
    "# x = base_model(inputs, training=False)\n",
    "\n",
    "# Hier einen Dense-layer und einmal Softmax hinzufügen, sodass die verschiedenen Klassen vorhergesagt werden! können!\n",
    "# last_layer = ...(x)\n",
    "# output     = tf.keras.layers.Activation('softmax')(last_layer)\n",
    "\n",
    "# Modell Zusammenfügen\n",
    "# model = tf.keras.Model(inputs, output)\n",
    "\n",
    "\n",
    "model.add(Dense(16, activation='softmax'))\n",
    "for layer in model.layers[:5]:\n",
    "        layer.trainable = False"
   ]
  },
  {
   "cell_type": "code",
   "execution_count": 134,
   "id": "97ab7f72-f612-4e37-b1c5-064d7aa616a1",
   "metadata": {},
   "outputs": [
    {
     "name": "stdout",
     "output_type": "stream",
     "text": [
      "Model: \"sequential_7\"\n",
      "_________________________________________________________________\n",
      "Layer (type)                 Output Shape              Param #   \n",
      "=================================================================\n",
      "conv2d_2 (Conv2D)            (None, 26, 26, 32)        320       \n",
      "_________________________________________________________________\n",
      "max_pooling2d_2 (MaxPooling2 (None, 13, 13, 32)        0         \n",
      "_________________________________________________________________\n",
      "conv2d_3 (Conv2D)            (None, 11, 11, 64)        18496     \n",
      "_________________________________________________________________\n",
      "max_pooling2d_3 (MaxPooling2 (None, 5, 5, 64)          0         \n",
      "_________________________________________________________________\n",
      "flatten_1 (Flatten)          (None, 1600)              0         \n",
      "_________________________________________________________________\n",
      "dense_3 (Dense)              (None, 16)                25616     \n",
      "=================================================================\n",
      "Total params: 44,432\n",
      "Trainable params: 25,616\n",
      "Non-trainable params: 18,816\n",
      "_________________________________________________________________\n"
     ]
    }
   ],
   "source": [
    "# Modell Kompilieren, Kostenfunktion categorical_crossentropy, Optimizer Adam mit der learningrate 1e-4\n",
    "learning_rate = 1e-4\n",
    "opt = keras.optimizers.Adam(learning_rate=learning_rate)\n",
    "model.compile(loss='categorical_crossentropy',\n",
    "              optimizer=opt,\n",
    "              metrics=['accuracy'])\n",
    "model.summary()"
   ]
  },
  {
   "cell_type": "code",
   "execution_count": 135,
   "id": "7cd190a8-57aa-4daa-bf69-b784f3e4d42f",
   "metadata": {},
   "outputs": [
    {
     "name": "stdout",
     "output_type": "stream",
     "text": [
      "200/200 [==============================] - 0s 2ms/step - loss: 3.7031 - accuracy: 0.0700\n"
     ]
    }
   ],
   "source": [
    "# Accuracy vor dem Transferlearning bestimmen\n",
    "loss0, accuracy0 = model.evaluate(x = X_test,y = Y_test)"
   ]
  },
  {
   "cell_type": "code",
   "execution_count": 136,
   "id": "147cbb77-6c15-4132-96ed-599f4d0567a1",
   "metadata": {},
   "outputs": [
    {
     "name": "stdout",
     "output_type": "stream",
     "text": [
      "Epoch 1/10\n",
      "250/250 - 2s - loss: 1.3765 - accuracy: 0.6293 - val_loss: 0.6123 - val_accuracy: 0.8644\n",
      "Epoch 2/10\n",
      "250/250 - 1s - loss: 0.4612 - accuracy: 0.8930 - val_loss: 0.3652 - val_accuracy: 0.9153\n",
      "Epoch 3/10\n",
      "250/250 - 1s - loss: 0.3128 - accuracy: 0.9251 - val_loss: 0.2775 - val_accuracy: 0.9320\n",
      "Epoch 4/10\n",
      "250/250 - 1s - loss: 0.2471 - accuracy: 0.9387 - val_loss: 0.2313 - val_accuracy: 0.9431\n",
      "Epoch 5/10\n",
      "250/250 - 2s - loss: 0.2084 - accuracy: 0.9485 - val_loss: 0.2010 - val_accuracy: 0.9505\n",
      "Epoch 6/10\n",
      "250/250 - 1s - loss: 0.1825 - accuracy: 0.9542 - val_loss: 0.1799 - val_accuracy: 0.9538\n",
      "Epoch 7/10\n",
      "250/250 - 1s - loss: 0.1636 - accuracy: 0.9584 - val_loss: 0.1648 - val_accuracy: 0.9558\n",
      "Epoch 8/10\n",
      "250/250 - 1s - loss: 0.1493 - accuracy: 0.9617 - val_loss: 0.1535 - val_accuracy: 0.9595\n",
      "Epoch 9/10\n",
      "250/250 - 1s - loss: 0.1381 - accuracy: 0.9646 - val_loss: 0.1440 - val_accuracy: 0.9622\n",
      "Epoch 10/10\n",
      "250/250 - 1s - loss: 0.1284 - accuracy: 0.9673 - val_loss: 0.1359 - val_accuracy: 0.9656\n"
     ]
    }
   ],
   "source": [
    "# Hier das Netzwerk für 10 Epochen trainieren!\n",
    "history=model.fit(X_train[0:32000], Y_train[0:32000], \n",
    "                  batch_size=128, \n",
    "                  epochs=10,\n",
    "                  verbose=2, \n",
    "                  validation_data=(X_train[32000:38400], Y_train[32000:38400])\n",
    "                 )"
   ]
  },
  {
   "cell_type": "code",
   "execution_count": 137,
   "id": "ba3a3c41-4939-4e22-bca2-55f8283d6a03",
   "metadata": {},
   "outputs": [
    {
     "data": {
      "image/png": "[encoded data removed]",
      "text/plain": [
       "<Figure size 864x288 with 2 Axes>"
      ]
     },
     "metadata": {
      "needs_background": "light"
     },
     "output_type": "display_data"
    }
   ],
   "source": [
    "# Plotten der Trainingskurve wie in der Aufgabe zuvor\n",
    "plt.figure(figsize=(12,4))\n",
    "plt.subplot(1,2,(1))\n",
    "plt.plot(history.history['accuracy'],linestyle='-.')\n",
    "plt.plot(history.history['val_accuracy'])\n",
    "plt.title('model accuracy')\n",
    "plt.ylabel('accuracy')\n",
    "plt.xlabel('epoch')\n",
    "plt.legend(['train', 'valid'], loc='lower right')\n",
    "plt.subplot(1,2,(2))\n",
    "plt.plot(history.history['loss'],linestyle='-.')\n",
    "plt.plot(history.history['val_loss'])\n",
    "plt.title('model loss')\n",
    "plt.ylabel('loss')\n",
    "plt.xlabel('epoch')\n",
    "plt.legend(['train', 'valid'], loc='upper right');"
   ]
  },
  {
   "cell_type": "code",
   "execution_count": 138,
   "id": "c47bd19e-8d98-4d30-89f7-3531dfa6fb63",
   "metadata": {},
   "outputs": [
    {
     "name": "stdout",
     "output_type": "stream",
     "text": [
      "[[379   0   0   0   1   0   3   0   0   0   0   1   0  16   0   0]\n",
      " [  0 394   3   0   0   0   0   2   0   0   0   0   0   0   0   1]\n",
      " [  2   0 389   1   0   0   0   0   3   0   1   1   0   2   1   0]\n",
      " [  2   0   0 393   0   3   0   0   1   1   0   0   0   0   0   0]\n",
      " [  1   0   1   0 382   0   1   0   0   6   4   0   0   1   0   4]\n",
      " [  1   0   0   2   0 386   0   0   0   3   0   1   4   0   1   2]\n",
      " [  0   1   0   0   1   1 395   0   0   0   0   0   2   0   0   0]\n",
      " [  1   1   2   1   1   0   0 390   0   1   0   0   0   0   0   3]\n",
      " [  0   0   0   0   1   0   0   0 386   4   1   3   0   2   2   1]\n",
      " [  1   0   1   0   2   0   0   4   1 391   0   0   0   0   0   0]\n",
      " [  1   0   2   0   1   1   0   0   0   2 390   2   0   0   1   0]\n",
      " [  5   0   1   2   0   0   0   2  12   0   6 365   0   1   5   1]\n",
      " [  5   0   1   0   0   0   3   0   0   0   0   0 387   0   3   1]\n",
      " [ 24   0   1   1   0   0   0   1   0   0   2   2   0 369   0   0]\n",
      " [  0   0   1   0   0   1   1   0   1   1   0   1   1   0 387   6]\n",
      " [  0   1   1   0   0   1   1   1   4   0   0   0   0   1   0 390]]\n",
      "Acc_fc_orig_flat =  0.96453125\n"
     ]
    }
   ],
   "source": [
    "# Confusion Matrix erstellen\n",
    "pred=model.predict(X_test)\n",
    "print(confusion_matrix(np.argmax(Y_test,axis=1),np.argmax(pred,axis=1)))\n",
    "acc_fc_orig = np.sum(np.argmax(Y_test,axis=1)==np.argmax(pred,axis=1))/len(pred)\n",
    "print(\"Acc_fc_orig_flat = \" , acc_fc_orig)"
   ]
  },
  {
   "cell_type": "code",
   "execution_count": 139,
   "id": "7eeed899",
   "metadata": {},
   "outputs": [
    {
     "name": "stdout",
     "output_type": "stream",
     "text": [
      "200/200 [==============================] - 0s 2ms/step - loss: 0.1338 - accuracy: 0.9645\n"
     ]
    }
   ],
   "source": [
    "loss0, accuracy0 = model.evaluate(x = X_test,y = Y_test)"
   ]
  }
 ],
 "metadata": {
  "interpreter": {
   "hash": "ad8259fb0131ae414e0fed75b17e89163033ec83dd8a20ff234b9709c1123196"
  },
  "kernelspec": {
   "display_name": "Python 3.9.4 64-bit",
   "language": "python",
   "name": "python3"
  },
  "language_info": {
   "codemirror_mode": {
    "name": "ipython",
    "version": 3
   },
   "file_extension": ".py",
   "mimetype": "text/x-python",
   "name": "python",
   "nbconvert_exporter": "python",
   "pygments_lexer": "ipython3",
   "version": "3.9.4"
  }
 },
 "nbformat": 4,
 "nbformat_minor": 5
}
