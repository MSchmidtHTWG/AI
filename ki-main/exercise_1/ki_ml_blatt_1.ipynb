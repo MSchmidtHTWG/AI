{
  "cells": [
    {
      "cell_type": "markdown",
      "metadata": {
        "id": "PohCF88YwWgk"
      },
      "source": [
        "# Aufgaben Blatt 4 KI Machine Learning I\n",
        "\n"
      ]
    },
    {
      "cell_type": "markdown",
      "metadata": {
        "id": "r9sieFkrwWgm"
      },
      "source": [
        "## Aufgabe 1 (Lineare Regression)\n",
        "\n",
        "Bearbeiten Sie die Aufgabe https://github.com/oduerr/ki/blob/main/linear_regression/lr_gradient_descent.ipynb\n",
        "\n",
        "Versuchen Sie den Code zu verstehen und machen die kleineren Aufgaben, die in dem notebook besprochen werden."
      ]
    },
    {
      "cell_type": "markdown",
      "metadata": {
        "id": "hr2BSdsNwWgm"
      },
      "source": [
        "## Aufgabe 2 (Titanic)\n",
        "In dieser Aufgabe nehmen Sie an der Titanic Challenge (https://www.kaggle.com/c/titanic) teil. Sie können die Aufgabe am eigenen PC lösen oder direkt in Kaggle lösen. Die Daten liegen auch auf Moodle. "
      ]
    },
    {
      "cell_type": "markdown",
      "metadata": {
        "id": "f-_0tiX-wWgm"
      },
      "source": [
        "a) Lesen Sie die Trainingsdaten ein und teilen Sie sie in ein Validierungsdatenset (20%) und in ein eigentliches Trainigsdatenset (80%) auf. Finden Sie auf dem Trainigsdatenset eine Regel für das Überleben alleine aufgrund der Klasse des Tickets (Pclass). Wenden Sie diese Regel auf die Validierungsdaten an. Wie gut ist die Genauigkeit (Anteil der korrekten Klassifikationen) auf den Validierungsdaten?  "
      ]
    },
    {
      "cell_type": "code",
      "execution_count": 120,
      "metadata": {
        "id": "PGm0-jEawWgn"
      },
      "outputs": [
        {
          "data": {
            "text/plain": [
              "0.6573033707865169"
            ]
          },
          "execution_count": 120,
          "metadata": {},
          "output_type": "execute_result"
        }
      ],
      "source": [
        "# Hinweise zum Einlesen\n",
        "import pandas as pd # data processing, CSV file I/O (e.g. pd.read_csv)\n",
        "import numpy as np\n",
        "train_val = pd.read_csv('titanic/train.csv')\n",
        "train = train_val.sample(frac=0.8)\n",
        "val = train_val.drop(train.index)\n",
        "\n",
        "# Hinweise zum Erzeugen einer Tabelle\n",
        "# ct = pd.crosstab(train_data.Pclass, train_data.Survived)\n",
        "train_data_survivalrate = train[['Pclass', 'Survived']].groupby(['Pclass'], as_index=True).mean().sort_values(by='Survived', ascending=False)\n",
        "pred = list()\n",
        "pred_survived = list()\n",
        "train_data_predictions = np.round(train_data_survivalrate['Survived'])\n",
        "for data in train_data_survivalrate['Survived']:\n",
        "    if data >= 0.5:\n",
        "        pred.append(1)\n",
        "    else:\n",
        "        pred.append(0)\n",
        "for data in val['Pclass']:\n",
        "    pred_survived.append(pred[data-1])\n",
        "    \n",
        "# Hinweise um die Accuracy zu berechnen\n",
        "from sklearn.metrics import accuracy_score\n",
        "accuracy_score(val['Survived'], pred_survived)\n"
      ]
    },
    {
      "cell_type": "markdown",
      "metadata": {
        "id": "AAb6YDtTwWgn"
      },
      "source": [
        "b) Wenden Sie die Regel aus a) auf die Testdaten an und laden Sie Ihre Lösung hoch. "
      ]
    },
    {
      "cell_type": "code",
      "execution_count": 117,
      "metadata": {
        "id": "SeplTB8SwWgo",
        "outputId": "98e2e1d5-0b85-4bb6-beb5-25e200b94913"
      },
      "outputs": [
        {
          "name": "stdout",
          "output_type": "stream",
          "text": [
            "Your submission was successfully saved!\n"
          ]
        }
      ],
      "source": [
        "#############################################\n",
        "# Hinweise zum rausschreiben\n",
        "pred_survived #Enhält die Predictions 0 für Tod 1 für Survived\n",
        "output = pd.DataFrame({'PassengerId': val.PassengerId, 'Survived': pred_survived})\n",
        "output.to_csv('my_submission.csv', index=False)\n",
        "print(\"Your submission was successfully saved!\")"
      ]
    },
    {
      "cell_type": "markdown",
      "metadata": {
        "id": "q0YqDhK3wWgp"
      },
      "source": [
        "c) Logistische Regression mit Pclass\n",
        "\n",
        "Trainieren Sie eine logistische Regression mit den Variablen 'Pclass'. Verwenden Sie die Klasse `sklearn.linear_model.LogisticRegression`. Berechnen Sie die Accuracy auf dem Validierungsset."
      ]
    },
    {
      "cell_type": "code",
      "execution_count": 183,
      "metadata": {},
      "outputs": [
        {
          "data": {
            "text/plain": [
              "68.72"
            ]
          },
          "execution_count": 183,
          "metadata": {},
          "output_type": "execute_result"
        }
      ],
      "source": [
        "from sklearn.linear_model import LogisticRegression\n",
        "model = LogisticRegression()\n",
        "x_train = train[[\"Pclass\"]]\n",
        "y_train = train[\"Survived\"]\n",
        "x_test = val[[\"Pclass\"]]\n",
        "model.fit(x_train, y_train)\n",
        "model.predict(x_test)\n",
        "accuracy = round(model.score(x_train, y_train) * 100, 2)\n",
        "accuracy"
      ]
    },
    {
      "cell_type": "markdown",
      "metadata": {
        "id": "p-xC04XswWgp"
      },
      "source": [
        "d) Coding / Feature engineering \n",
        "\n",
        "d.i) Missing Values:\n",
        "\n",
        "Verwenden Sie nun weitere Features. Die Variable Age enthält Missing values, die Sie durch folgenden code ersetzen können (was passiert da?)"
      ]
    },
    {
      "cell_type": "code",
      "execution_count": 176,
      "metadata": {
        "id": "6i9qi9ywwWgq"
      },
      "outputs": [
        {
          "data": {
            "text/plain": [
              "61.99"
            ]
          },
          "execution_count": 176,
          "metadata": {},
          "output_type": "execute_result"
        }
      ],
      "source": [
        "train_val = pd.read_csv('titanic/train.csv')\n",
        "train = train_val.sample(frac=0.8)\n",
        "val = train_val.drop(train.index)\n",
        "val[\"Age\"].fillna(train[\"Age\"].median(skipna=True), inplace=True)\n",
        "train[\"Age\"].fillna(train[\"Age\"].median(skipna=True), inplace=True)\n",
        "model = LogisticRegression()\n",
        "x_train = train[[\"Age\"]]\n",
        "y_train = train[\"Survived\"]\n",
        "x_test = val[[\"Age\"]]\n",
        "model.fit(x_train, y_train)\n",
        "model.predict(x_test)\n",
        "accuracy = round(model.score(x_train, y_train) * 100, 2)\n",
        "accuracy"
      ]
    },
    {
      "cell_type": "markdown",
      "metadata": {
        "id": "qxNwZco7wWgq"
      },
      "source": [
        "d.ii) Kategorische Variable\n",
        "\n",
        "Verwenden Sie die Funktion `pd.get_dummies` um die Variablen 'Pclass' and 'Sex' in numerische Werte umzuwandeln. Führen Sie nun eine logistische Regression durch."
      ]
    },
    {
      "cell_type": "code",
      "execution_count": 146,
      "metadata": {},
      "outputs": [
        {
          "data": {
            "text/plain": [
              "67.88"
            ]
          },
          "execution_count": 146,
          "metadata": {},
          "output_type": "execute_result"
        }
      ],
      "source": [
        "dummie_data = pd.get_dummies(train_val, columns=[\"Pclass\", \"Sex\"], sparse=False)\n",
        "train = dummie_data.sample(frac=0.8)\n",
        "val = dummie_data.drop(train.index)\n",
        "model = LogisticRegression()\n",
        "x_train = train[[\"Pclass_1\", \"Pclass_2\", \"Pclass_3\"]]\n",
        "y_train = train[\"Survived\"]\n",
        "x_test = val[[\"Pclass_1\", \"Pclass_2\", \"Pclass_3\"]]\n",
        "model.fit(x_train, y_train)\n",
        "model.predict(x_test)\n",
        "accuracy = round(model.score(x_train, y_train) * 100, 2)\n",
        "accuracy"
      ]
    },
    {
      "cell_type": "code",
      "execution_count": 145,
      "metadata": {},
      "outputs": [
        {
          "data": {
            "text/plain": [
              "79.94"
            ]
          },
          "execution_count": 145,
          "metadata": {},
          "output_type": "execute_result"
        }
      ],
      "source": [
        "model = LogisticRegression()\n",
        "train = dummie_data.sample(frac=0.8)\n",
        "val = dummie_data.drop(train.index)\n",
        "x_train = train[[\"Sex_female\", \"Sex_male\"]]\n",
        "y_train = train[\"Survived\"]\n",
        "x_test = val[[\"Sex_female\", \"Sex_male\"]]\n",
        "model.fit(x_train, y_train)\n",
        "model.predict(x_test)\n",
        "accuracy = round(model.score(x_train, y_train) * 100, 2)\n",
        "accuracy"
      ]
    },
    {
      "cell_type": "code",
      "execution_count": 163,
      "metadata": {},
      "outputs": [
        {
          "data": {
            "text/plain": [
              "78.96"
            ]
          },
          "execution_count": 163,
          "metadata": {},
          "output_type": "execute_result"
        }
      ],
      "source": [
        "model = LogisticRegression()\n",
        "train = dummie_data.sample(frac=0.8)\n",
        "val = dummie_data.drop(train.index)\n",
        "x_train = train[[\"Sex_female\", \"Sex_male\", \"Pclass_1\", \"Pclass_2\", \"Pclass_3\"]]\n",
        "y_train = train[\"Survived\"]\n",
        "x_test = val[[\"Sex_female\", \"Sex_male\", \"Pclass_1\", \"Pclass_2\", \"Pclass_3\"]]\n",
        "model.fit(x_train, y_train)\n",
        "model.predict(x_test)\n",
        "accuracy = round(model.score(x_train, y_train) * 100, 2)\n",
        "accuracy"
      ]
    },
    {
      "cell_type": "markdown",
      "metadata": {
        "id": "yu8UOcKAwWgq"
      },
      "source": [
        "e) Weitere Klassifikatoren. Neben der logistischen Regression, gibt es weitere Klassifikatoren. Der Random-Forest ist ein recht stabiler Klassifikator, was wäre die Performance von diesem Klassifikator."
      ]
    },
    {
      "cell_type": "code",
      "execution_count": 182,
      "metadata": {
        "id": "v0eRJVGSwWgr"
      },
      "outputs": [
        {
          "data": {
            "text/plain": [
              "68.72"
            ]
          },
          "execution_count": 182,
          "metadata": {},
          "output_type": "execute_result"
        }
      ],
      "source": [
        "# Hinweise zur Lösung\n",
        "from sklearn.ensemble import RandomForestClassifier\n",
        "rf = RandomForestClassifier()\n",
        "train_val = pd.read_csv('titanic/train.csv')\n",
        "train = train_val.sample(frac=0.8)\n",
        "val = train_val.drop(train.index)\n",
        "x_train = train[[\"Pclass\"]]\n",
        "y_train = train[\"Survived\"]\n",
        "x_test = val[[\"Pclass\"]]\n",
        "model.fit(x_train, y_train)\n",
        "model.predict(x_test)\n",
        "accuracy = round(model.score(x_train, y_train) * 100, 2)\n",
        "accuracy\n",
        "#rf hat nun gleiches interface, wie die logistische Regression"
      ]
    },
    {
      "cell_type": "markdown",
      "metadata": {
        "id": "Oe_oIy11wWgr"
      },
      "source": [
        "f) [optional] Versuchen Sie weitere Features zu erzeugen und laden den besten Klassifikator auf Kaggle hoch. "
      ]
    },
    {
      "cell_type": "markdown",
      "metadata": {
        "id": "fc49pWuewWgr"
      },
      "source": [
        "## Aufgabe 3 Titanic mit Neuronalen Netzen \n",
        "\n",
        "Hinweis: Diese Aufgabe kann erst nach der dritten Vorlesung in ML gemacht werden.\n",
        "\n",
        "Mit den gleichen Daten, wie in der Aufgabe 2 d. Erstellen Sie ein fully connected neural network und fitten es an die Ttrainingsdaten. Verwenden Sie mindestens zwei hidden Layer. Plotten Sie den Verlauf der Loss Kurve für die Trainings- und Validierungsdaten. Optional: Laden Sie Ihre beste Lösung auf Kaggle hoch. "
      ]
    },
    {
      "cell_type": "code",
      "execution_count": 213,
      "metadata": {
        "id": "aYxfamTkwWgr",
        "outputId": "80a28e11-8256-4ab2-97ad-8f1d0ddda78e"
      },
      "outputs": [
        {
          "name": "stdout",
          "output_type": "stream",
          "text": [
            "Model: \"sequential_29\"\n",
            "_________________________________________________________________\n",
            "Layer (type)                 Output Shape              Param #   \n",
            "=================================================================\n",
            "dense_82 (Dense)             (None, 10)                70        \n",
            "_________________________________________________________________\n",
            "dense_83 (Dense)             (None, 1)                 11        \n",
            "=================================================================\n",
            "Total params: 81\n",
            "Trainable params: 81\n",
            "Non-trainable params: 0\n",
            "_________________________________________________________________\n",
            "Epoch 1/100\n",
            "23/23 - 0s - loss: 0.9811 - accuracy: 0.3829 - val_loss: 0.9073 - val_accuracy: 0.3764\n",
            "Epoch 2/100\n",
            "23/23 - 0s - loss: 0.8788 - accuracy: 0.3759 - val_loss: 0.8141 - val_accuracy: 0.3708\n",
            "Epoch 3/100\n",
            "23/23 - 0s - loss: 0.7877 - accuracy: 0.3703 - val_loss: 0.7363 - val_accuracy: 0.3820\n",
            "Epoch 4/100\n",
            "23/23 - 0s - loss: 0.7116 - accuracy: 0.4208 - val_loss: 0.6758 - val_accuracy: 0.6517\n",
            "Epoch 5/100\n",
            "23/23 - 0s - loss: 0.6570 - accuracy: 0.6830 - val_loss: 0.6463 - val_accuracy: 0.6180\n",
            "Epoch 6/100\n",
            "23/23 - 0s - loss: 0.6337 - accuracy: 0.6185 - val_loss: 0.6367 - val_accuracy: 0.6124\n",
            "Epoch 7/100\n",
            "23/23 - 0s - loss: 0.6239 - accuracy: 0.6171 - val_loss: 0.6311 - val_accuracy: 0.6124\n",
            "Epoch 8/100\n",
            "23/23 - 0s - loss: 0.6185 - accuracy: 0.6171 - val_loss: 0.6266 - val_accuracy: 0.6124\n",
            "Epoch 9/100\n",
            "23/23 - 0s - loss: 0.6140 - accuracy: 0.6185 - val_loss: 0.6227 - val_accuracy: 0.6124\n",
            "Epoch 10/100\n",
            "23/23 - 0s - loss: 0.6098 - accuracy: 0.6185 - val_loss: 0.6188 - val_accuracy: 0.6180\n",
            "Epoch 11/100\n",
            "23/23 - 0s - loss: 0.6057 - accuracy: 0.6283 - val_loss: 0.6149 - val_accuracy: 0.6236\n",
            "Epoch 12/100\n",
            "23/23 - 0s - loss: 0.6021 - accuracy: 0.6396 - val_loss: 0.6112 - val_accuracy: 0.6348\n",
            "Epoch 13/100\n",
            "23/23 - 0s - loss: 0.5979 - accuracy: 0.6592 - val_loss: 0.6075 - val_accuracy: 0.6404\n",
            "Epoch 14/100\n",
            "23/23 - 0s - loss: 0.5941 - accuracy: 0.6592 - val_loss: 0.6038 - val_accuracy: 0.6404\n",
            "Epoch 15/100\n",
            "23/23 - 0s - loss: 0.5903 - accuracy: 0.6718 - val_loss: 0.5998 - val_accuracy: 0.6685\n",
            "Epoch 16/100\n",
            "23/23 - 0s - loss: 0.5864 - accuracy: 0.7027 - val_loss: 0.5962 - val_accuracy: 0.6629\n",
            "Epoch 17/100\n",
            "23/23 - 0s - loss: 0.5831 - accuracy: 0.6872 - val_loss: 0.5933 - val_accuracy: 0.6798\n",
            "Epoch 18/100\n",
            "23/23 - 0s - loss: 0.5793 - accuracy: 0.7279 - val_loss: 0.5885 - val_accuracy: 0.7022\n",
            "Epoch 19/100\n",
            "23/23 - 0s - loss: 0.5750 - accuracy: 0.7293 - val_loss: 0.5858 - val_accuracy: 0.7022\n",
            "Epoch 20/100\n",
            "23/23 - 0s - loss: 0.5712 - accuracy: 0.7321 - val_loss: 0.5815 - val_accuracy: 0.7022\n",
            "Epoch 21/100\n",
            "23/23 - 0s - loss: 0.5675 - accuracy: 0.7335 - val_loss: 0.5778 - val_accuracy: 0.7022\n",
            "Epoch 22/100\n",
            "23/23 - 0s - loss: 0.5639 - accuracy: 0.7363 - val_loss: 0.5743 - val_accuracy: 0.7022\n",
            "Epoch 23/100\n",
            "23/23 - 0s - loss: 0.5603 - accuracy: 0.7461 - val_loss: 0.5710 - val_accuracy: 0.7135\n",
            "Epoch 24/100\n",
            "23/23 - 0s - loss: 0.5574 - accuracy: 0.7405 - val_loss: 0.5679 - val_accuracy: 0.7191\n",
            "Epoch 25/100\n",
            "23/23 - 0s - loss: 0.5530 - accuracy: 0.7532 - val_loss: 0.5638 - val_accuracy: 0.7416\n",
            "Epoch 26/100\n",
            "23/23 - 0s - loss: 0.5497 - accuracy: 0.7532 - val_loss: 0.5609 - val_accuracy: 0.7472\n",
            "Epoch 27/100\n",
            "23/23 - 0s - loss: 0.5461 - accuracy: 0.7784 - val_loss: 0.5569 - val_accuracy: 0.7865\n",
            "Epoch 28/100\n",
            "23/23 - 0s - loss: 0.5424 - accuracy: 0.7854 - val_loss: 0.5539 - val_accuracy: 0.7865\n",
            "Epoch 29/100\n",
            "23/23 - 0s - loss: 0.5393 - accuracy: 0.7756 - val_loss: 0.5507 - val_accuracy: 0.7921\n",
            "Epoch 30/100\n",
            "23/23 - 0s - loss: 0.5357 - accuracy: 0.7966 - val_loss: 0.5467 - val_accuracy: 0.7978\n",
            "Epoch 31/100\n",
            "23/23 - 0s - loss: 0.5319 - accuracy: 0.7896 - val_loss: 0.5444 - val_accuracy: 0.7978\n",
            "Epoch 32/100\n",
            "23/23 - 0s - loss: 0.5284 - accuracy: 0.7994 - val_loss: 0.5398 - val_accuracy: 0.7921\n",
            "Epoch 33/100\n",
            "23/23 - 0s - loss: 0.5254 - accuracy: 0.8008 - val_loss: 0.5367 - val_accuracy: 0.7978\n",
            "Epoch 34/100\n",
            "23/23 - 0s - loss: 0.5222 - accuracy: 0.7952 - val_loss: 0.5345 - val_accuracy: 0.7978\n",
            "Epoch 35/100\n",
            "23/23 - 0s - loss: 0.5183 - accuracy: 0.7980 - val_loss: 0.5307 - val_accuracy: 0.7978\n",
            "Epoch 36/100\n",
            "23/23 - 0s - loss: 0.5150 - accuracy: 0.7994 - val_loss: 0.5266 - val_accuracy: 0.7921\n",
            "Epoch 37/100\n",
            "23/23 - 0s - loss: 0.5116 - accuracy: 0.8022 - val_loss: 0.5238 - val_accuracy: 0.7921\n",
            "Epoch 38/100\n",
            "23/23 - 0s - loss: 0.5088 - accuracy: 0.8149 - val_loss: 0.5209 - val_accuracy: 0.8034\n",
            "Epoch 39/100\n",
            "23/23 - 0s - loss: 0.5057 - accuracy: 0.7980 - val_loss: 0.5193 - val_accuracy: 0.7978\n",
            "Epoch 40/100\n",
            "23/23 - 0s - loss: 0.5032 - accuracy: 0.7980 - val_loss: 0.5164 - val_accuracy: 0.7921\n",
            "Epoch 41/100\n",
            "23/23 - 0s - loss: 0.5003 - accuracy: 0.8093 - val_loss: 0.5121 - val_accuracy: 0.7865\n",
            "Epoch 42/100\n",
            "23/23 - 0s - loss: 0.4974 - accuracy: 0.8121 - val_loss: 0.5105 - val_accuracy: 0.7921\n",
            "Epoch 43/100\n",
            "23/23 - 0s - loss: 0.4952 - accuracy: 0.8022 - val_loss: 0.5087 - val_accuracy: 0.8034\n",
            "Epoch 44/100\n",
            "23/23 - 0s - loss: 0.4922 - accuracy: 0.8036 - val_loss: 0.5054 - val_accuracy: 0.7865\n",
            "Epoch 45/100\n",
            "23/23 - 0s - loss: 0.4915 - accuracy: 0.8050 - val_loss: 0.5027 - val_accuracy: 0.7865\n",
            "Epoch 46/100\n",
            "23/23 - 0s - loss: 0.4872 - accuracy: 0.8107 - val_loss: 0.5017 - val_accuracy: 0.7921\n",
            "Epoch 47/100\n",
            "23/23 - 0s - loss: 0.4854 - accuracy: 0.8036 - val_loss: 0.4993 - val_accuracy: 0.7865\n",
            "Epoch 48/100\n",
            "23/23 - 0s - loss: 0.4830 - accuracy: 0.8163 - val_loss: 0.4966 - val_accuracy: 0.7865\n",
            "Epoch 49/100\n",
            "23/23 - 0s - loss: 0.4809 - accuracy: 0.8121 - val_loss: 0.4945 - val_accuracy: 0.7865\n",
            "Epoch 50/100\n",
            "23/23 - 0s - loss: 0.4790 - accuracy: 0.8135 - val_loss: 0.4929 - val_accuracy: 0.7865\n",
            "Epoch 51/100\n",
            "23/23 - 0s - loss: 0.4771 - accuracy: 0.8121 - val_loss: 0.4911 - val_accuracy: 0.7865\n",
            "Epoch 52/100\n",
            "23/23 - 0s - loss: 0.4752 - accuracy: 0.8121 - val_loss: 0.4901 - val_accuracy: 0.7865\n",
            "Epoch 53/100\n",
            "23/23 - 0s - loss: 0.4730 - accuracy: 0.8121 - val_loss: 0.4869 - val_accuracy: 0.7921\n",
            "Epoch 54/100\n",
            "23/23 - 0s - loss: 0.4722 - accuracy: 0.8036 - val_loss: 0.4847 - val_accuracy: 0.7978\n",
            "Epoch 55/100\n",
            "23/23 - 0s - loss: 0.4709 - accuracy: 0.8121 - val_loss: 0.4855 - val_accuracy: 0.7865\n",
            "Epoch 56/100\n",
            "23/23 - 0s - loss: 0.4683 - accuracy: 0.8107 - val_loss: 0.4832 - val_accuracy: 0.7865\n",
            "Epoch 57/100\n",
            "23/23 - 0s - loss: 0.4669 - accuracy: 0.8121 - val_loss: 0.4818 - val_accuracy: 0.7865\n",
            "Epoch 58/100\n",
            "23/23 - 0s - loss: 0.4657 - accuracy: 0.8121 - val_loss: 0.4795 - val_accuracy: 0.7921\n",
            "Epoch 59/100\n",
            "23/23 - 0s - loss: 0.4642 - accuracy: 0.8121 - val_loss: 0.4796 - val_accuracy: 0.7865\n",
            "Epoch 60/100\n",
            "23/23 - 0s - loss: 0.4632 - accuracy: 0.8163 - val_loss: 0.4784 - val_accuracy: 0.7865\n",
            "Epoch 61/100\n",
            "23/23 - 0s - loss: 0.4617 - accuracy: 0.8107 - val_loss: 0.4763 - val_accuracy: 0.7921\n",
            "Epoch 62/100\n",
            "23/23 - 0s - loss: 0.4607 - accuracy: 0.8065 - val_loss: 0.4751 - val_accuracy: 0.7921\n",
            "Epoch 63/100\n",
            "23/23 - 0s - loss: 0.4595 - accuracy: 0.8022 - val_loss: 0.4763 - val_accuracy: 0.7865\n",
            "Epoch 64/100\n",
            "23/23 - 0s - loss: 0.4578 - accuracy: 0.8135 - val_loss: 0.4734 - val_accuracy: 0.7865\n",
            "Epoch 65/100\n",
            "23/23 - 0s - loss: 0.4576 - accuracy: 0.8107 - val_loss: 0.4723 - val_accuracy: 0.7865\n",
            "Epoch 66/100\n",
            "23/23 - 0s - loss: 0.4573 - accuracy: 0.8036 - val_loss: 0.4739 - val_accuracy: 0.7921\n",
            "Epoch 67/100\n",
            "23/23 - 0s - loss: 0.4550 - accuracy: 0.8149 - val_loss: 0.4701 - val_accuracy: 0.7921\n",
            "Epoch 68/100\n",
            "23/23 - 0s - loss: 0.4543 - accuracy: 0.8121 - val_loss: 0.4695 - val_accuracy: 0.7865\n",
            "Epoch 69/100\n",
            "23/23 - 0s - loss: 0.4527 - accuracy: 0.8135 - val_loss: 0.4700 - val_accuracy: 0.7865\n",
            "Epoch 70/100\n",
            "23/23 - 0s - loss: 0.4522 - accuracy: 0.8163 - val_loss: 0.4686 - val_accuracy: 0.7865\n",
            "Epoch 71/100\n",
            "23/23 - 0s - loss: 0.4513 - accuracy: 0.8135 - val_loss: 0.4670 - val_accuracy: 0.7865\n",
            "Epoch 72/100\n",
            "23/23 - 0s - loss: 0.4501 - accuracy: 0.8135 - val_loss: 0.4675 - val_accuracy: 0.7865\n",
            "Epoch 73/100\n",
            "23/23 - 0s - loss: 0.4494 - accuracy: 0.8135 - val_loss: 0.4656 - val_accuracy: 0.7865\n",
            "Epoch 74/100\n",
            "23/23 - 0s - loss: 0.4488 - accuracy: 0.8149 - val_loss: 0.4660 - val_accuracy: 0.7865\n",
            "Epoch 75/100\n",
            "23/23 - 0s - loss: 0.4480 - accuracy: 0.8121 - val_loss: 0.4648 - val_accuracy: 0.7865\n",
            "Epoch 76/100\n",
            "23/23 - 0s - loss: 0.4469 - accuracy: 0.8135 - val_loss: 0.4649 - val_accuracy: 0.7865\n",
            "Epoch 77/100\n",
            "23/23 - 0s - loss: 0.4473 - accuracy: 0.8036 - val_loss: 0.4662 - val_accuracy: 0.7978\n",
            "Epoch 78/100\n",
            "23/23 - 0s - loss: 0.4458 - accuracy: 0.8135 - val_loss: 0.4626 - val_accuracy: 0.7865\n",
            "Epoch 79/100\n",
            "23/23 - 0s - loss: 0.4451 - accuracy: 0.8135 - val_loss: 0.4618 - val_accuracy: 0.7865\n",
            "Epoch 80/100\n",
            "23/23 - 0s - loss: 0.4442 - accuracy: 0.8135 - val_loss: 0.4624 - val_accuracy: 0.7865\n",
            "Epoch 81/100\n",
            "23/23 - 0s - loss: 0.4439 - accuracy: 0.8121 - val_loss: 0.4631 - val_accuracy: 0.7865\n",
            "Epoch 82/100\n",
            "23/23 - 0s - loss: 0.4437 - accuracy: 0.8065 - val_loss: 0.4615 - val_accuracy: 0.7865\n",
            "Epoch 83/100\n",
            "23/23 - 0s - loss: 0.4434 - accuracy: 0.8163 - val_loss: 0.4622 - val_accuracy: 0.7865\n",
            "Epoch 84/100\n",
            "23/23 - 0s - loss: 0.4419 - accuracy: 0.8135 - val_loss: 0.4598 - val_accuracy: 0.7865\n",
            "Epoch 85/100\n",
            "23/23 - 0s - loss: 0.4412 - accuracy: 0.8135 - val_loss: 0.4607 - val_accuracy: 0.7865\n",
            "Epoch 86/100\n",
            "23/23 - 0s - loss: 0.4411 - accuracy: 0.8121 - val_loss: 0.4599 - val_accuracy: 0.7865\n",
            "Epoch 87/100\n",
            "23/23 - 0s - loss: 0.4402 - accuracy: 0.8149 - val_loss: 0.4593 - val_accuracy: 0.7865\n",
            "Epoch 88/100\n",
            "23/23 - 0s - loss: 0.4403 - accuracy: 0.8135 - val_loss: 0.4600 - val_accuracy: 0.7865\n",
            "Epoch 89/100\n",
            "23/23 - 0s - loss: 0.4392 - accuracy: 0.8121 - val_loss: 0.4582 - val_accuracy: 0.7865\n",
            "Epoch 90/100\n",
            "23/23 - 0s - loss: 0.4391 - accuracy: 0.8149 - val_loss: 0.4583 - val_accuracy: 0.7865\n",
            "Epoch 91/100\n",
            "23/23 - 0s - loss: 0.4386 - accuracy: 0.8149 - val_loss: 0.4584 - val_accuracy: 0.7865\n",
            "Epoch 92/100\n",
            "23/23 - 0s - loss: 0.4389 - accuracy: 0.8163 - val_loss: 0.4574 - val_accuracy: 0.7865\n",
            "Epoch 93/100\n",
            "23/23 - 0s - loss: 0.4378 - accuracy: 0.8093 - val_loss: 0.4588 - val_accuracy: 0.7921\n",
            "Epoch 94/100\n",
            "23/23 - 0s - loss: 0.4376 - accuracy: 0.8093 - val_loss: 0.4572 - val_accuracy: 0.7865\n",
            "Epoch 95/100\n",
            "23/23 - 0s - loss: 0.4370 - accuracy: 0.8149 - val_loss: 0.4562 - val_accuracy: 0.7865\n",
            "Epoch 96/100\n",
            "23/23 - 0s - loss: 0.4363 - accuracy: 0.8163 - val_loss: 0.4581 - val_accuracy: 0.7978\n",
            "Epoch 97/100\n",
            "23/23 - 0s - loss: 0.4362 - accuracy: 0.8022 - val_loss: 0.4564 - val_accuracy: 0.7865\n",
            "Epoch 98/100\n",
            "23/23 - 0s - loss: 0.4357 - accuracy: 0.8149 - val_loss: 0.4548 - val_accuracy: 0.7921\n",
            "Epoch 99/100\n",
            "23/23 - 0s - loss: 0.4352 - accuracy: 0.8163 - val_loss: 0.4564 - val_accuracy: 0.7921\n",
            "Epoch 100/100\n",
            "23/23 - 0s - loss: 0.4349 - accuracy: 0.8135 - val_loss: 0.4554 - val_accuracy: 0.7865\n",
            "28/28 [==============================] - 0s 333us/step - loss: 0.4386 - accuracy: 0.8092\n"
          ]
        },
        {
          "data": {
            "image/png": "[encoded data removed]",
            "text/plain": [
              "<Figure size 432x288 with 1 Axes>"
            ]
          },
          "metadata": {
            "needs_background": "light"
          },
          "output_type": "display_data"
        },
        {
          "data": {
            "image/png": "[encoded data removed]",
            "text/plain": [
              "<Figure size 432x288 with 1 Axes>"
            ]
          },
          "metadata": {
            "needs_background": "light"
          },
          "output_type": "display_data"
        }
      ],
      "source": [
        "#Sie können von folgendem Code starten um das Netzwerk zu definieren, füllen Sie die ...\n",
        "import tensorflow as tf\n",
        "import tensorflow.keras \n",
        "from tensorflow.keras.models import Sequential\n",
        "from tensorflow.keras.layers import Dense\n",
        "import matplotlib.pyplot as plt\n",
        "model = Sequential()\n",
        "model.add(Dense(10, activation='sigmoid', batch_input_shape=(None, 6))) #We have 4 input features\n",
        "#...\n",
        "# model.add(Dense(10, activation='sigmoid'))\n",
        "# model.add(Dense(20, activation='sigmoid'))\n",
        "model.add(Dense(1, activation='sigmoid'))\n",
        "opt = tf.keras.optimizers.Adam(learning_rate=1e-3)\n",
        "model.compile(loss=tf.keras.losses.BinaryCrossentropy(),\n",
        "              optimizer=opt,\n",
        "              metrics=['accuracy'])\n",
        "model.summary()\n",
        "\n",
        "train_val = pd.read_csv('titanic/train.csv')\n",
        "train_val = pd.get_dummies(train_val, columns=[\"Pclass\", \"Sex\"], sparse=False)\n",
        "train_val[\"Age\"].fillna(train[\"Age\"].median(skipna=True), inplace=True)\n",
        "train = train_val.sample(frac=0.8)\n",
        "val = train_val.drop(train.index)\n",
        "\n",
        "history = model.fit(train[[\"Pclass_1\", \"Pclass_2\", \"Pclass_3\", \"Sex_male\", \"Sex_female\", \"Age\"]], train[\"Survived\"],\n",
        "                    batch_size=32,\n",
        "                    epochs=100,\n",
        "                    verbose=2,\n",
        "                    validation_data=(val[[\"Pclass_1\", \"Pclass_2\", \"Pclass_3\", \"Sex_male\", \"Sex_female\", \"Age\"]], val[\"Survived\"]))\n",
        "model.evaluate(train_val[[\"Pclass_1\", \"Pclass_2\", \"Pclass_3\", \"Sex_male\", \"Sex_female\", \"Age\"]], train_val[\"Survived\"])\n",
        "\n",
        "# summarize history for accuracy\n",
        "plt.plot(history.history['accuracy'])\n",
        "plt.plot(history.history['val_accuracy'])\n",
        "plt.title('model accuracy')\n",
        "plt.ylabel('accuracy')\n",
        "plt.xlabel('epoch')\n",
        "plt.legend(['train', 'test'], loc='upper left')\n",
        "plt.show()\n",
        "# summarize history for loss\n",
        "plt.plot(history.history['loss'])\n",
        "plt.plot(history.history['val_loss'])\n",
        "plt.title('model loss')\n",
        "plt.ylabel('loss')\n",
        "plt.xlabel('epoch')\n",
        "plt.legend(['train', 'test'], loc='upper left')\n",
        "plt.show()"
      ]
    },
    {
      "cell_type": "code",
      "execution_count": null,
      "metadata": {
        "id": "9M8BQdo5wWgs"
      },
      "outputs": [],
      "source": []
    }
  ],
  "metadata": {
    "colab": {
      "name": "ki_ml_blatt_1.ipynb",
      "provenance": []
    },
    "interpreter": {
      "hash": "ad8259fb0131ae414e0fed75b17e89163033ec83dd8a20ff234b9709c1123196"
    },
    "kernelspec": {
      "display_name": "Python 3.9.4 64-bit",
      "language": "python",
      "name": "python3"
    },
    "language_info": {
      "codemirror_mode": {
        "name": "ipython",
        "version": 3
      },
      "file_extension": ".py",
      "mimetype": "text/x-python",
      "name": "python",
      "nbconvert_exporter": "python",
      "pygments_lexer": "ipython3",
      "version": "3.9.4"
    }
  },
  "nbformat": 4,
  "nbformat_minor": 0
}
