{
  "cells": [
    {
      "cell_type": "markdown",
      "metadata": {
        "id": "PohCF88YwWgk"
      },
      "source": [
        "# Aufgaben Blatt 4 KI Machine Learning I\n",
        "\n"
      ]
    },
    {
      "cell_type": "markdown",
      "metadata": {
        "id": "r9sieFkrwWgm"
      },
      "source": [
        "## Aufgabe 1 (Lineare Regression)\n",
        "\n",
        "Bearbeiten Sie die Aufgabe https://github.com/oduerr/ki/blob/main/linear_regression/lr_gradient_descent.ipynb\n",
        "\n",
        "Versuchen Sie den Code zu verstehen und machen die kleineren Aufgaben, die in dem notebook besprochen werden."
      ]
    },
    {
      "cell_type": "markdown",
      "metadata": {
        "id": "hr2BSdsNwWgm"
      },
      "source": [
        "## Aufgabe 2 (Titanic)\n",
        "In dieser Aufgabe nehmen Sie an der Titanic Challenge (https://www.kaggle.com/c/titanic) teil. Sie können die Aufgabe am eigenen PC lösen oder direkt in Kaggle lösen. Die Daten liegen auch auf Moodle. "
      ]
    },
    {
      "cell_type": "markdown",
      "metadata": {
        "id": "f-_0tiX-wWgm"
      },
      "source": [
        "a) Lesen Sie die Trainingsdaten ein und teilen Sie sie in ein Validierungsdatenset (20%) und in ein eigentliches Trainigsdatenset (80%) auf. Finden Sie auf dem Trainigsdatenset eine Regel für das Überleben alleine aufgrund der Klasse des Tickets (Pclass). Wenden Sie diese Regel auf die Validierungsdaten an. Wie gut ist die Genauigkeit (Anteil der korrekten Klassifikationen) auf den Validierungsdaten?  "
      ]
    },
    {
      "cell_type": "code",
      "execution_count": 120,
      "metadata": {
        "id": "PGm0-jEawWgn"
      },
      "outputs": [
        {
          "data": {
            "text/plain": [
              "0.6573033707865169"
            ]
          },
          "execution_count": 120,
          "metadata": {},
          "output_type": "execute_result"
        }
      ],
      "source": [
        "# Hinweise zum Einlesen\n",
        "import pandas as pd # data processing, CSV file I/O (e.g. pd.read_csv)\n",
        "import numpy as np\n",
        "train_val = pd.read_csv('titanic/train.csv')\n",
        "train = train_val.sample(frac=0.8)\n",
        "val = train_val.drop(train.index)\n",
        "\n",
        "# Hinweise zum Erzeugen einer Tabelle\n",
        "# ct = pd.crosstab(train_data.Pclass, train_data.Survived)\n",
        "train_data_survivalrate = train[['Pclass', 'Survived']].groupby(['Pclass'], as_index=True).mean().sort_values(by='Survived', ascending=False)\n",
        "pred = list()\n",
        "pred_survived = list()\n",
        "train_data_predictions = np.round(train_data_survivalrate['Survived'])\n",
        "for data in train_data_survivalrate['Survived']:\n",
        "    if data >= 0.5:\n",
        "        pred.append(1)\n",
        "    else:\n",
        "        pred.append(0)\n",
        "for data in val['Pclass']:\n",
        "    pred_survived.append(pred[data-1])\n",
        "    \n",
        "# Hinweise um die Accuracy zu berechnen\n",
        "from sklearn.metrics import accuracy_score\n",
        "accuracy_score(val['Survived'], pred_survived)\n"
      ]
    },
    {
      "cell_type": "markdown",
      "metadata": {
        "id": "AAb6YDtTwWgn"
      },
      "source": [
        "b) Wenden Sie die Regel aus a) auf die Testdaten an und laden Sie Ihre Lösung hoch. "
      ]
    },
    {
      "cell_type": "code",
      "execution_count": 117,
      "metadata": {
        "id": "SeplTB8SwWgo",
        "outputId": "98e2e1d5-0b85-4bb6-beb5-25e200b94913"
      },
      "outputs": [
        {
          "name": "stdout",
          "output_type": "stream",
          "text": [
            "Your submission was successfully saved!\n"
          ]
        }
      ],
      "source": [
        "#############################################\n",
        "# Hinweise zum rausschreiben\n",
        "pred_survived #Enhält die Predictions 0 für Tod 1 für Survived\n",
        "output = pd.DataFrame({'PassengerId': val.PassengerId, 'Survived': pred_survived})\n",
        "output.to_csv('my_submission.csv', index=False)\n",
        "print(\"Your submission was successfully saved!\")"
      ]
    },
    {
      "cell_type": "markdown",
      "metadata": {
        "id": "q0YqDhK3wWgp"
      },
      "source": [
        "c) Logistische Regression mit Pclass\n",
        "\n",
        "Trainieren Sie eine logistische Regression mit den Variablen 'Pclass'. Verwenden Sie die Klasse `sklearn.linear_model.LogisticRegression`. Berechnen Sie die Accuracy auf dem Validierungsset."
      ]
    },
    {
      "cell_type": "code",
      "execution_count": 183,
      "metadata": {},
      "outputs": [
        {
          "data": {
            "text/plain": [
              "68.72"
            ]
          },
          "execution_count": 183,
          "metadata": {},
          "output_type": "execute_result"
        }
      ],
      "source": [
        "from sklearn.linear_model import LogisticRegression\n",
        "model = LogisticRegression()\n",
        "x_train = train[[\"Pclass\"]]\n",
        "y_train = train[\"Survived\"]\n",
        "x_test = val[[\"Pclass\"]]\n",
        "model.fit(x_train, y_train)\n",
        "model.predict(x_test)\n",
        "accuracy = round(model.score(x_train, y_train) * 100, 2)\n",
        "accuracy"
      ]
    },
    {
      "cell_type": "markdown",
      "metadata": {
        "id": "p-xC04XswWgp"
      },
      "source": [
        "d) Coding / Feature engineering \n",
        "\n",
        "d.i) Missing Values:\n",
        "\n",
        "Verwenden Sie nun weitere Features. Die Variable Age enthält Missing values, die Sie durch folgenden code ersetzen können (was passiert da?)"
      ]
    },
    {
      "cell_type": "code",
      "execution_count": 176,
      "metadata": {
        "id": "6i9qi9ywwWgq"
      },
      "outputs": [
        {
          "data": {
            "text/plain": [
              "61.99"
            ]
          },
          "execution_count": 176,
          "metadata": {},
          "output_type": "execute_result"
        }
      ],
      "source": [
        "train_val = pd.read_csv('titanic/train.csv')\n",
        "train = train_val.sample(frac=0.8)\n",
        "val = train_val.drop(train.index)\n",
        "val[\"Age\"].fillna(train[\"Age\"].median(skipna=True), inplace=True)\n",
        "train[\"Age\"].fillna(train[\"Age\"].median(skipna=True), inplace=True)\n",
        "model = LogisticRegression()\n",
        "x_train = train[[\"Age\"]]\n",
        "y_train = train[\"Survived\"]\n",
        "x_test = val[[\"Age\"]]\n",
        "model.fit(x_train, y_train)\n",
        "model.predict(x_test)\n",
        "accuracy = round(model.score(x_train, y_train) * 100, 2)\n",
        "accuracy"
      ]
    },
    {
      "cell_type": "markdown",
      "metadata": {
        "id": "qxNwZco7wWgq"
      },
      "source": [
        "d.ii) Kategorische Variable\n",
        "\n",
        "Verwenden Sie die Funktion `pd.get_dummies` um die Variablen 'Pclass' and 'Sex' in numerische Werte umzuwandeln. Führen Sie nun eine logistische Regression durch."
      ]
    },
    {
      "cell_type": "code",
      "execution_count": 146,
      "metadata": {},
      "outputs": [
        {
          "data": {
            "text/plain": [
              "67.88"
            ]
          },
          "execution_count": 146,
          "metadata": {},
          "output_type": "execute_result"
        }
      ],
      "source": [
        "dummie_data = pd.get_dummies(train_val, columns=[\"Pclass\", \"Sex\"], sparse=False)\n",
        "train = dummie_data.sample(frac=0.8)\n",
        "val = dummie_data.drop(train.index)\n",
        "model = LogisticRegression()\n",
        "x_train = train[[\"Pclass_1\", \"Pclass_2\", \"Pclass_3\"]]\n",
        "y_train = train[\"Survived\"]\n",
        "x_test = val[[\"Pclass_1\", \"Pclass_2\", \"Pclass_3\"]]\n",
        "model.fit(x_train, y_train)\n",
        "model.predict(x_test)\n",
        "accuracy = round(model.score(x_train, y_train) * 100, 2)\n",
        "accuracy"
      ]
    },
    {
      "cell_type": "code",
      "execution_count": 145,
      "metadata": {},
      "outputs": [
        {
          "data": {
            "text/plain": [
              "79.94"
            ]
          },
          "execution_count": 145,
          "metadata": {},
          "output_type": "execute_result"
        }
      ],
      "source": [
        "model = LogisticRegression()\n",
        "train = dummie_data.sample(frac=0.8)\n",
        "val = dummie_data.drop(train.index)\n",
        "x_train = train[[\"Sex_female\", \"Sex_male\"]]\n",
        "y_train = train[\"Survived\"]\n",
        "x_test = val[[\"Sex_female\", \"Sex_male\"]]\n",
        "model.fit(x_train, y_train)\n",
        "model.predict(x_test)\n",
        "accuracy = round(model.score(x_train, y_train) * 100, 2)\n",
        "accuracy"
      ]
    },
    {
      "cell_type": "code",
      "execution_count": 163,
      "metadata": {},
      "outputs": [
        {
          "data": {
            "text/plain": [
              "78.96"
            ]
          },
          "execution_count": 163,
          "metadata": {},
          "output_type": "execute_result"
        }
      ],
      "source": [
        "model = LogisticRegression()\n",
        "train = dummie_data.sample(frac=0.8)\n",
        "val = dummie_data.drop(train.index)\n",
        "x_train = train[[\"Sex_female\", \"Sex_male\", \"Pclass_1\", \"Pclass_2\", \"Pclass_3\"]]\n",
        "y_train = train[\"Survived\"]\n",
        "x_test = val[[\"Sex_female\", \"Sex_male\", \"Pclass_1\", \"Pclass_2\", \"Pclass_3\"]]\n",
        "model.fit(x_train, y_train)\n",
        "model.predict(x_test)\n",
        "accuracy = round(model.score(x_train, y_train) * 100, 2)\n",
        "accuracy"
      ]
    },
    {
      "cell_type": "markdown",
      "metadata": {
        "id": "yu8UOcKAwWgq"
      },
      "source": [
        "e) Weitere Klassifikatoren. Neben der logistischen Regression, gibt es weitere Klassifikatoren. Der Random-Forest ist ein recht stabiler Klassifikator, was wäre die Performance von diesem Klassifikator."
      ]
    },
    {
      "cell_type": "code",
      "execution_count": 182,
      "metadata": {
        "id": "v0eRJVGSwWgr"
      },
      "outputs": [
        {
          "data": {
            "text/plain": [
              "68.72"
            ]
          },
          "execution_count": 182,
          "metadata": {},
          "output_type": "execute_result"
        }
      ],
      "source": [
        "# Hinweise zur Lösung\n",
        "from sklearn.ensemble import RandomForestClassifier\n",
        "rf = RandomForestClassifier()\n",
        "train_val = pd.read_csv('titanic/train.csv')\n",
        "train = train_val.sample(frac=0.8)\n",
        "val = train_val.drop(train.index)\n",
        "x_train = train[[\"Pclass\"]]\n",
        "y_train = train[\"Survived\"]\n",
        "x_test = val[[\"Pclass\"]]\n",
        "model.fit(x_train, y_train)\n",
        "model.predict(x_test)\n",
        "accuracy = round(model.score(x_train, y_train) * 100, 2)\n",
        "accuracy\n",
        "#rf hat nun gleiches interface, wie die logistische Regression"
      ]
    },
    {
      "cell_type": "markdown",
      "metadata": {
        "id": "Oe_oIy11wWgr"
      },
      "source": [
        "f) [optional] Versuchen Sie weitere Features zu erzeugen und laden den besten Klassifikator auf Kaggle hoch. "
      ]
    },
    {
      "cell_type": "markdown",
      "metadata": {
        "id": "fc49pWuewWgr"
      },
      "source": [
        "## Aufgabe 3 Titanic mit Neuronalen Netzen \n",
        "\n",
        "Hinweis: Diese Aufgabe kann erst nach der dritten Vorlesung in ML gemacht werden.\n",
        "\n",
        "Mit den gleichen Daten, wie in der Aufgabe 2 d. Erstellen Sie ein fully connected neural network und fitten es an die Ttrainingsdaten. Verwenden Sie mindestens zwei hidden Layer. Plotten Sie den Verlauf der Loss Kurve für die Trainings- und Validierungsdaten. Optional: Laden Sie Ihre beste Lösung auf Kaggle hoch. "
      ]
    },
    {
      "cell_type": "code",
      "execution_count": 212,
      "metadata": {
        "id": "aYxfamTkwWgr",
        "outputId": "80a28e11-8256-4ab2-97ad-8f1d0ddda78e"
      },
      "outputs": [
        {
          "name": "stdout",
          "output_type": "stream",
          "text": [
            "Model: \"sequential_28\"\n",
            "_________________________________________________________________\n",
            "Layer (type)                 Output Shape              Param #   \n",
            "=================================================================\n",
            "dense_80 (Dense)             (None, 10)                70        \n",
            "_________________________________________________________________\n",
            "dense_81 (Dense)             (None, 1)                 11        \n",
            "=================================================================\n",
            "Total params: 81\n",
            "Trainable params: 81\n",
            "Non-trainable params: 0\n",
            "_________________________________________________________________\n",
            "Epoch 1/200\n",
            "23/23 - 0s - loss: 0.9763 - accuracy: 0.3899 - val_loss: 0.9481 - val_accuracy: 0.3596\n",
            "Epoch 2/200\n",
            "23/23 - 0s - loss: 0.8810 - accuracy: 0.3899 - val_loss: 0.8500 - val_accuracy: 0.3596\n",
            "Epoch 3/200\n",
            "23/23 - 0s - loss: 0.7946 - accuracy: 0.3899 - val_loss: 0.7669 - val_accuracy: 0.3596\n",
            "Epoch 4/200\n",
            "23/23 - 0s - loss: 0.7337 - accuracy: 0.3913 - val_loss: 0.7166 - val_accuracy: 0.3764\n",
            "Epoch 5/200\n",
            "23/23 - 0s - loss: 0.6991 - accuracy: 0.3927 - val_loss: 0.6880 - val_accuracy: 0.4101\n",
            "Epoch 6/200\n",
            "23/23 - 0s - loss: 0.6786 - accuracy: 0.6957 - val_loss: 0.6678 - val_accuracy: 0.7584\n",
            "Epoch 7/200\n",
            "23/23 - 0s - loss: 0.6603 - accuracy: 0.6662 - val_loss: 0.6456 - val_accuracy: 0.6292\n",
            "Epoch 8/200\n",
            "23/23 - 0s - loss: 0.6416 - accuracy: 0.6269 - val_loss: 0.6294 - val_accuracy: 0.6292\n",
            "Epoch 9/200\n",
            "23/23 - 0s - loss: 0.6334 - accuracy: 0.6269 - val_loss: 0.6256 - val_accuracy: 0.6292\n",
            "Epoch 10/200\n",
            "23/23 - 0s - loss: 0.6297 - accuracy: 0.6283 - val_loss: 0.6230 - val_accuracy: 0.6292\n",
            "Epoch 11/200\n",
            "23/23 - 0s - loss: 0.6258 - accuracy: 0.6297 - val_loss: 0.6201 - val_accuracy: 0.6348\n",
            "Epoch 12/200\n",
            "23/23 - 0s - loss: 0.6223 - accuracy: 0.6353 - val_loss: 0.6171 - val_accuracy: 0.6348\n",
            "Epoch 13/200\n",
            "23/23 - 0s - loss: 0.6188 - accuracy: 0.6396 - val_loss: 0.6146 - val_accuracy: 0.6404\n",
            "Epoch 14/200\n",
            "23/23 - 0s - loss: 0.6152 - accuracy: 0.6424 - val_loss: 0.6113 - val_accuracy: 0.6404\n",
            "Epoch 15/200\n",
            "23/23 - 0s - loss: 0.6113 - accuracy: 0.6564 - val_loss: 0.6080 - val_accuracy: 0.6629\n",
            "Epoch 16/200\n",
            "23/23 - 0s - loss: 0.6063 - accuracy: 0.6676 - val_loss: 0.6026 - val_accuracy: 0.6854\n",
            "Epoch 17/200\n",
            "23/23 - 0s - loss: 0.5999 - accuracy: 0.7405 - val_loss: 0.5974 - val_accuracy: 0.7697\n",
            "Epoch 18/200\n",
            "23/23 - 0s - loss: 0.5955 - accuracy: 0.7307 - val_loss: 0.5916 - val_accuracy: 0.7303\n",
            "Epoch 19/200\n",
            "23/23 - 0s - loss: 0.5900 - accuracy: 0.7896 - val_loss: 0.5870 - val_accuracy: 0.7809\n",
            "Epoch 20/200\n",
            "23/23 - 0s - loss: 0.5842 - accuracy: 0.7798 - val_loss: 0.5822 - val_accuracy: 0.7753\n",
            "Epoch 21/200\n",
            "23/23 - 0s - loss: 0.5794 - accuracy: 0.7868 - val_loss: 0.5776 - val_accuracy: 0.7753\n",
            "Epoch 22/200\n",
            "23/23 - 0s - loss: 0.5754 - accuracy: 0.7840 - val_loss: 0.5729 - val_accuracy: 0.7753\n",
            "Epoch 23/200\n",
            "23/23 - 0s - loss: 0.5707 - accuracy: 0.7980 - val_loss: 0.5691 - val_accuracy: 0.7921\n",
            "Epoch 24/200\n",
            "23/23 - 0s - loss: 0.5658 - accuracy: 0.8008 - val_loss: 0.5647 - val_accuracy: 0.7921\n",
            "Epoch 25/200\n",
            "23/23 - 0s - loss: 0.5616 - accuracy: 0.8022 - val_loss: 0.5607 - val_accuracy: 0.7921\n",
            "Epoch 26/200\n",
            "23/23 - 0s - loss: 0.5576 - accuracy: 0.7994 - val_loss: 0.5569 - val_accuracy: 0.7921\n",
            "Epoch 27/200\n",
            "23/23 - 0s - loss: 0.5535 - accuracy: 0.7994 - val_loss: 0.5530 - val_accuracy: 0.7921\n",
            "Epoch 28/200\n",
            "23/23 - 0s - loss: 0.5492 - accuracy: 0.7994 - val_loss: 0.5498 - val_accuracy: 0.7921\n",
            "Epoch 29/200\n",
            "23/23 - 0s - loss: 0.5457 - accuracy: 0.7980 - val_loss: 0.5459 - val_accuracy: 0.7921\n",
            "Epoch 30/200\n",
            "23/23 - 0s - loss: 0.5415 - accuracy: 0.7980 - val_loss: 0.5426 - val_accuracy: 0.7921\n",
            "Epoch 31/200\n",
            "23/23 - 0s - loss: 0.5384 - accuracy: 0.7980 - val_loss: 0.5391 - val_accuracy: 0.7921\n",
            "Epoch 32/200\n",
            "23/23 - 0s - loss: 0.5345 - accuracy: 0.7994 - val_loss: 0.5360 - val_accuracy: 0.7921\n",
            "Epoch 33/200\n",
            "23/23 - 0s - loss: 0.5308 - accuracy: 0.7994 - val_loss: 0.5328 - val_accuracy: 0.7921\n",
            "Epoch 34/200\n",
            "23/23 - 0s - loss: 0.5277 - accuracy: 0.7994 - val_loss: 0.5297 - val_accuracy: 0.7978\n",
            "Epoch 35/200\n",
            "23/23 - 0s - loss: 0.5241 - accuracy: 0.7980 - val_loss: 0.5269 - val_accuracy: 0.7978\n",
            "Epoch 36/200\n",
            "23/23 - 0s - loss: 0.5203 - accuracy: 0.8036 - val_loss: 0.5237 - val_accuracy: 0.7978\n",
            "Epoch 37/200\n",
            "23/23 - 0s - loss: 0.5169 - accuracy: 0.8036 - val_loss: 0.5203 - val_accuracy: 0.8034\n",
            "Epoch 38/200\n",
            "23/23 - 0s - loss: 0.5126 - accuracy: 0.7952 - val_loss: 0.5164 - val_accuracy: 0.8034\n",
            "Epoch 39/200\n",
            "23/23 - 0s - loss: 0.5089 - accuracy: 0.7980 - val_loss: 0.5122 - val_accuracy: 0.8034\n",
            "Epoch 40/200\n",
            "23/23 - 0s - loss: 0.5037 - accuracy: 0.8050 - val_loss: 0.5081 - val_accuracy: 0.7921\n",
            "Epoch 41/200\n",
            "23/23 - 0s - loss: 0.5002 - accuracy: 0.8022 - val_loss: 0.5044 - val_accuracy: 0.7978\n",
            "Epoch 42/200\n",
            "23/23 - 0s - loss: 0.4967 - accuracy: 0.8008 - val_loss: 0.5007 - val_accuracy: 0.7978\n",
            "Epoch 43/200\n",
            "23/23 - 0s - loss: 0.4937 - accuracy: 0.7910 - val_loss: 0.4981 - val_accuracy: 0.8090\n",
            "Epoch 44/200\n",
            "23/23 - 0s - loss: 0.4903 - accuracy: 0.8050 - val_loss: 0.4949 - val_accuracy: 0.7921\n",
            "Epoch 45/200\n",
            "23/23 - 0s - loss: 0.4878 - accuracy: 0.8022 - val_loss: 0.4921 - val_accuracy: 0.8090\n",
            "Epoch 46/200\n",
            "23/23 - 0s - loss: 0.4849 - accuracy: 0.7966 - val_loss: 0.4897 - val_accuracy: 0.8090\n",
            "Epoch 47/200\n",
            "23/23 - 0s - loss: 0.4823 - accuracy: 0.8079 - val_loss: 0.4874 - val_accuracy: 0.7921\n",
            "Epoch 48/200\n",
            "23/23 - 0s - loss: 0.4800 - accuracy: 0.8022 - val_loss: 0.4855 - val_accuracy: 0.7921\n",
            "Epoch 49/200\n",
            "23/23 - 0s - loss: 0.4781 - accuracy: 0.8036 - val_loss: 0.4833 - val_accuracy: 0.7921\n",
            "Epoch 50/200\n",
            "23/23 - 0s - loss: 0.4761 - accuracy: 0.8121 - val_loss: 0.4817 - val_accuracy: 0.7921\n",
            "Epoch 51/200\n",
            "23/23 - 0s - loss: 0.4747 - accuracy: 0.8079 - val_loss: 0.4804 - val_accuracy: 0.7978\n",
            "Epoch 52/200\n",
            "23/23 - 0s - loss: 0.4724 - accuracy: 0.8008 - val_loss: 0.4787 - val_accuracy: 0.7921\n",
            "Epoch 53/200\n",
            "23/23 - 0s - loss: 0.4710 - accuracy: 0.8036 - val_loss: 0.4772 - val_accuracy: 0.7921\n",
            "Epoch 54/200\n",
            "23/23 - 0s - loss: 0.4688 - accuracy: 0.8036 - val_loss: 0.4754 - val_accuracy: 0.8090\n",
            "Epoch 55/200\n",
            "23/23 - 0s - loss: 0.4686 - accuracy: 0.8050 - val_loss: 0.4747 - val_accuracy: 0.8090\n",
            "Epoch 56/200\n",
            "23/23 - 0s - loss: 0.4665 - accuracy: 0.8107 - val_loss: 0.4729 - val_accuracy: 0.8034\n",
            "Epoch 57/200\n",
            "23/23 - 0s - loss: 0.4648 - accuracy: 0.7994 - val_loss: 0.4719 - val_accuracy: 0.7921\n",
            "Epoch 58/200\n",
            "23/23 - 0s - loss: 0.4643 - accuracy: 0.8093 - val_loss: 0.4706 - val_accuracy: 0.8034\n",
            "Epoch 59/200\n",
            "23/23 - 0s - loss: 0.4629 - accuracy: 0.7980 - val_loss: 0.4703 - val_accuracy: 0.8090\n",
            "Epoch 60/200\n",
            "23/23 - 0s - loss: 0.4614 - accuracy: 0.7994 - val_loss: 0.4686 - val_accuracy: 0.8090\n",
            "Epoch 61/200\n",
            "23/23 - 0s - loss: 0.4596 - accuracy: 0.7980 - val_loss: 0.4677 - val_accuracy: 0.7978\n",
            "Epoch 62/200\n",
            "23/23 - 0s - loss: 0.4579 - accuracy: 0.8079 - val_loss: 0.4667 - val_accuracy: 0.8034\n",
            "Epoch 63/200\n",
            "23/23 - 0s - loss: 0.4572 - accuracy: 0.8065 - val_loss: 0.4659 - val_accuracy: 0.7921\n",
            "Epoch 64/200\n",
            "23/23 - 0s - loss: 0.4563 - accuracy: 0.7980 - val_loss: 0.4652 - val_accuracy: 0.7978\n",
            "Epoch 65/200\n",
            "23/23 - 0s - loss: 0.4558 - accuracy: 0.8022 - val_loss: 0.4640 - val_accuracy: 0.7978\n",
            "Epoch 66/200\n",
            "23/23 - 0s - loss: 0.4535 - accuracy: 0.7994 - val_loss: 0.4638 - val_accuracy: 0.8090\n",
            "Epoch 67/200\n",
            "23/23 - 0s - loss: 0.4526 - accuracy: 0.8008 - val_loss: 0.4626 - val_accuracy: 0.7921\n",
            "Epoch 68/200\n",
            "23/23 - 0s - loss: 0.4516 - accuracy: 0.8036 - val_loss: 0.4617 - val_accuracy: 0.7978\n",
            "Epoch 69/200\n",
            "23/23 - 0s - loss: 0.4509 - accuracy: 0.8107 - val_loss: 0.4614 - val_accuracy: 0.7978\n",
            "Epoch 70/200\n",
            "23/23 - 0s - loss: 0.4499 - accuracy: 0.8036 - val_loss: 0.4612 - val_accuracy: 0.7978\n",
            "Epoch 71/200\n",
            "23/23 - 0s - loss: 0.4493 - accuracy: 0.8022 - val_loss: 0.4608 - val_accuracy: 0.7978\n",
            "Epoch 72/200\n",
            "23/23 - 0s - loss: 0.4484 - accuracy: 0.7980 - val_loss: 0.4599 - val_accuracy: 0.8034\n",
            "Epoch 73/200\n",
            "23/23 - 0s - loss: 0.4474 - accuracy: 0.8121 - val_loss: 0.4593 - val_accuracy: 0.8090\n",
            "Epoch 74/200\n",
            "23/23 - 0s - loss: 0.4471 - accuracy: 0.7994 - val_loss: 0.4590 - val_accuracy: 0.7921\n",
            "Epoch 75/200\n",
            "23/23 - 0s - loss: 0.4461 - accuracy: 0.8079 - val_loss: 0.4584 - val_accuracy: 0.8090\n",
            "Epoch 76/200\n",
            "23/23 - 0s - loss: 0.4456 - accuracy: 0.8093 - val_loss: 0.4582 - val_accuracy: 0.7978\n",
            "Epoch 77/200\n",
            "23/23 - 0s - loss: 0.4446 - accuracy: 0.8008 - val_loss: 0.4582 - val_accuracy: 0.7978\n",
            "Epoch 78/200\n",
            "23/23 - 0s - loss: 0.4445 - accuracy: 0.8036 - val_loss: 0.4575 - val_accuracy: 0.7921\n",
            "Epoch 79/200\n",
            "23/23 - 0s - loss: 0.4438 - accuracy: 0.8050 - val_loss: 0.4570 - val_accuracy: 0.8090\n",
            "Epoch 80/200\n",
            "23/23 - 0s - loss: 0.4434 - accuracy: 0.8065 - val_loss: 0.4567 - val_accuracy: 0.8090\n",
            "Epoch 81/200\n",
            "23/23 - 0s - loss: 0.4436 - accuracy: 0.8022 - val_loss: 0.4567 - val_accuracy: 0.7921\n",
            "Epoch 82/200\n",
            "23/23 - 0s - loss: 0.4421 - accuracy: 0.8121 - val_loss: 0.4560 - val_accuracy: 0.8034\n",
            "Epoch 83/200\n",
            "23/23 - 0s - loss: 0.4420 - accuracy: 0.8065 - val_loss: 0.4559 - val_accuracy: 0.7921\n",
            "Epoch 84/200\n",
            "23/23 - 0s - loss: 0.4417 - accuracy: 0.8107 - val_loss: 0.4556 - val_accuracy: 0.7921\n",
            "Epoch 85/200\n",
            "23/23 - 0s - loss: 0.4402 - accuracy: 0.8036 - val_loss: 0.4557 - val_accuracy: 0.7921\n",
            "Epoch 86/200\n",
            "23/23 - 0s - loss: 0.4399 - accuracy: 0.8050 - val_loss: 0.4551 - val_accuracy: 0.7978\n",
            "Epoch 87/200\n",
            "23/23 - 0s - loss: 0.4398 - accuracy: 0.8093 - val_loss: 0.4549 - val_accuracy: 0.7978\n",
            "Epoch 88/200\n",
            "23/23 - 0s - loss: 0.4390 - accuracy: 0.8065 - val_loss: 0.4547 - val_accuracy: 0.7978\n",
            "Epoch 89/200\n",
            "23/23 - 0s - loss: 0.4392 - accuracy: 0.7966 - val_loss: 0.4545 - val_accuracy: 0.7978\n",
            "Epoch 90/200\n",
            "23/23 - 0s - loss: 0.4387 - accuracy: 0.8065 - val_loss: 0.4543 - val_accuracy: 0.7978\n",
            "Epoch 91/200\n",
            "23/23 - 0s - loss: 0.4387 - accuracy: 0.8036 - val_loss: 0.4540 - val_accuracy: 0.8090\n",
            "Epoch 92/200\n",
            "23/23 - 0s - loss: 0.4384 - accuracy: 0.7994 - val_loss: 0.4540 - val_accuracy: 0.7978\n",
            "Epoch 93/200\n",
            "23/23 - 0s - loss: 0.4377 - accuracy: 0.8121 - val_loss: 0.4536 - val_accuracy: 0.7921\n",
            "Epoch 94/200\n",
            "23/23 - 0s - loss: 0.4371 - accuracy: 0.8022 - val_loss: 0.4536 - val_accuracy: 0.7978\n",
            "Epoch 95/200\n",
            "23/23 - 0s - loss: 0.4370 - accuracy: 0.8036 - val_loss: 0.4535 - val_accuracy: 0.7921\n",
            "Epoch 96/200\n",
            "23/23 - 0s - loss: 0.4363 - accuracy: 0.8135 - val_loss: 0.4533 - val_accuracy: 0.7978\n",
            "Epoch 97/200\n",
            "23/23 - 0s - loss: 0.4360 - accuracy: 0.8065 - val_loss: 0.4532 - val_accuracy: 0.7978\n",
            "Epoch 98/200\n",
            "23/23 - 0s - loss: 0.4357 - accuracy: 0.8149 - val_loss: 0.4531 - val_accuracy: 0.7978\n",
            "Epoch 99/200\n",
            "23/23 - 0s - loss: 0.4357 - accuracy: 0.8022 - val_loss: 0.4530 - val_accuracy: 0.7921\n",
            "Epoch 100/200\n",
            "23/23 - 0s - loss: 0.4356 - accuracy: 0.8163 - val_loss: 0.4528 - val_accuracy: 0.7809\n",
            "Epoch 101/200\n",
            "23/23 - 0s - loss: 0.4349 - accuracy: 0.8050 - val_loss: 0.4529 - val_accuracy: 0.7865\n",
            "Epoch 102/200\n",
            "23/23 - 0s - loss: 0.4357 - accuracy: 0.8008 - val_loss: 0.4528 - val_accuracy: 0.7865\n",
            "Epoch 103/200\n",
            "23/23 - 0s - loss: 0.4348 - accuracy: 0.8036 - val_loss: 0.4525 - val_accuracy: 0.7978\n",
            "Epoch 104/200\n",
            "23/23 - 0s - loss: 0.4347 - accuracy: 0.8093 - val_loss: 0.4523 - val_accuracy: 0.7809\n",
            "Epoch 105/200\n",
            "23/23 - 0s - loss: 0.4342 - accuracy: 0.8050 - val_loss: 0.4522 - val_accuracy: 0.7921\n",
            "Epoch 106/200\n",
            "23/23 - 0s - loss: 0.4338 - accuracy: 0.8065 - val_loss: 0.4521 - val_accuracy: 0.7809\n",
            "Epoch 107/200\n",
            "23/23 - 0s - loss: 0.4356 - accuracy: 0.7994 - val_loss: 0.4523 - val_accuracy: 0.7865\n",
            "Epoch 108/200\n",
            "23/23 - 0s - loss: 0.4337 - accuracy: 0.8036 - val_loss: 0.4520 - val_accuracy: 0.7865\n",
            "Epoch 109/200\n",
            "23/23 - 0s - loss: 0.4333 - accuracy: 0.8065 - val_loss: 0.4519 - val_accuracy: 0.7865\n",
            "Epoch 110/200\n",
            "23/23 - 0s - loss: 0.4330 - accuracy: 0.8050 - val_loss: 0.4518 - val_accuracy: 0.7865\n",
            "Epoch 111/200\n",
            "23/23 - 0s - loss: 0.4328 - accuracy: 0.8022 - val_loss: 0.4519 - val_accuracy: 0.7809\n",
            "Epoch 112/200\n",
            "23/23 - 0s - loss: 0.4326 - accuracy: 0.8036 - val_loss: 0.4518 - val_accuracy: 0.7809\n",
            "Epoch 113/200\n",
            "23/23 - 0s - loss: 0.4323 - accuracy: 0.8036 - val_loss: 0.4518 - val_accuracy: 0.7978\n",
            "Epoch 114/200\n",
            "23/23 - 0s - loss: 0.4327 - accuracy: 0.8065 - val_loss: 0.4516 - val_accuracy: 0.7978\n",
            "Epoch 115/200\n",
            "23/23 - 0s - loss: 0.4325 - accuracy: 0.8008 - val_loss: 0.4517 - val_accuracy: 0.7809\n",
            "Epoch 116/200\n",
            "23/23 - 0s - loss: 0.4321 - accuracy: 0.8036 - val_loss: 0.4515 - val_accuracy: 0.7865\n",
            "Epoch 117/200\n",
            "23/23 - 0s - loss: 0.4317 - accuracy: 0.8050 - val_loss: 0.4515 - val_accuracy: 0.7865\n",
            "Epoch 118/200\n",
            "23/23 - 0s - loss: 0.4318 - accuracy: 0.8008 - val_loss: 0.4515 - val_accuracy: 0.7809\n",
            "Epoch 119/200\n",
            "23/23 - 0s - loss: 0.4317 - accuracy: 0.8065 - val_loss: 0.4514 - val_accuracy: 0.7865\n",
            "Epoch 120/200\n",
            "23/23 - 0s - loss: 0.4317 - accuracy: 0.8093 - val_loss: 0.4514 - val_accuracy: 0.7865\n",
            "Epoch 121/200\n",
            "23/23 - 0s - loss: 0.4321 - accuracy: 0.7980 - val_loss: 0.4518 - val_accuracy: 0.7865\n",
            "Epoch 122/200\n",
            "23/23 - 0s - loss: 0.4313 - accuracy: 0.8036 - val_loss: 0.4516 - val_accuracy: 0.7865\n",
            "Epoch 123/200\n",
            "23/23 - 0s - loss: 0.4306 - accuracy: 0.8036 - val_loss: 0.4520 - val_accuracy: 0.7978\n",
            "Epoch 124/200\n",
            "23/23 - 0s - loss: 0.4308 - accuracy: 0.8008 - val_loss: 0.4516 - val_accuracy: 0.7921\n",
            "Epoch 125/200\n",
            "23/23 - 0s - loss: 0.4309 - accuracy: 0.8008 - val_loss: 0.4516 - val_accuracy: 0.7921\n",
            "Epoch 126/200\n",
            "23/23 - 0s - loss: 0.4307 - accuracy: 0.8036 - val_loss: 0.4514 - val_accuracy: 0.7921\n",
            "Epoch 127/200\n",
            "23/23 - 0s - loss: 0.4308 - accuracy: 0.8050 - val_loss: 0.4517 - val_accuracy: 0.7978\n",
            "Epoch 128/200\n",
            "23/23 - 0s - loss: 0.4308 - accuracy: 0.7994 - val_loss: 0.4514 - val_accuracy: 0.7921\n",
            "Epoch 129/200\n",
            "23/23 - 0s - loss: 0.4298 - accuracy: 0.8050 - val_loss: 0.4512 - val_accuracy: 0.7865\n",
            "Epoch 130/200\n",
            "23/23 - 0s - loss: 0.4297 - accuracy: 0.8008 - val_loss: 0.4512 - val_accuracy: 0.7865\n",
            "Epoch 131/200\n",
            "23/23 - 0s - loss: 0.4299 - accuracy: 0.8008 - val_loss: 0.4512 - val_accuracy: 0.7921\n",
            "Epoch 132/200\n",
            "23/23 - 0s - loss: 0.4304 - accuracy: 0.7980 - val_loss: 0.4513 - val_accuracy: 0.7921\n",
            "Epoch 133/200\n",
            "23/23 - 0s - loss: 0.4296 - accuracy: 0.8022 - val_loss: 0.4512 - val_accuracy: 0.7865\n",
            "Epoch 134/200\n",
            "23/23 - 0s - loss: 0.4308 - accuracy: 0.7994 - val_loss: 0.4511 - val_accuracy: 0.7921\n",
            "Epoch 135/200\n",
            "23/23 - 0s - loss: 0.4289 - accuracy: 0.8050 - val_loss: 0.4512 - val_accuracy: 0.7865\n",
            "Epoch 136/200\n",
            "23/23 - 0s - loss: 0.4294 - accuracy: 0.8022 - val_loss: 0.4510 - val_accuracy: 0.7921\n",
            "Epoch 137/200\n",
            "23/23 - 0s - loss: 0.4297 - accuracy: 0.7980 - val_loss: 0.4514 - val_accuracy: 0.8034\n",
            "Epoch 138/200\n",
            "23/23 - 0s - loss: 0.4294 - accuracy: 0.7994 - val_loss: 0.4511 - val_accuracy: 0.7865\n",
            "Epoch 139/200\n",
            "23/23 - 0s - loss: 0.4295 - accuracy: 0.8008 - val_loss: 0.4510 - val_accuracy: 0.7921\n",
            "Epoch 140/200\n",
            "23/23 - 0s - loss: 0.4298 - accuracy: 0.7966 - val_loss: 0.4515 - val_accuracy: 0.8034\n",
            "Epoch 141/200\n",
            "23/23 - 0s - loss: 0.4283 - accuracy: 0.8008 - val_loss: 0.4512 - val_accuracy: 0.7865\n",
            "Epoch 142/200\n",
            "23/23 - 0s - loss: 0.4287 - accuracy: 0.8022 - val_loss: 0.4511 - val_accuracy: 0.7865\n",
            "Epoch 143/200\n",
            "23/23 - 0s - loss: 0.4289 - accuracy: 0.8022 - val_loss: 0.4510 - val_accuracy: 0.7865\n",
            "Epoch 144/200\n",
            "23/23 - 0s - loss: 0.4284 - accuracy: 0.8022 - val_loss: 0.4509 - val_accuracy: 0.7865\n",
            "Epoch 145/200\n",
            "23/23 - 0s - loss: 0.4287 - accuracy: 0.8008 - val_loss: 0.4510 - val_accuracy: 0.7921\n",
            "Epoch 146/200\n",
            "23/23 - 0s - loss: 0.4280 - accuracy: 0.7994 - val_loss: 0.4512 - val_accuracy: 0.8034\n",
            "Epoch 147/200\n",
            "23/23 - 0s - loss: 0.4281 - accuracy: 0.7994 - val_loss: 0.4509 - val_accuracy: 0.7921\n",
            "Epoch 148/200\n",
            "23/23 - 0s - loss: 0.4281 - accuracy: 0.7994 - val_loss: 0.4510 - val_accuracy: 0.7921\n",
            "Epoch 149/200\n",
            "23/23 - 0s - loss: 0.4280 - accuracy: 0.7980 - val_loss: 0.4511 - val_accuracy: 0.8034\n",
            "Epoch 150/200\n",
            "23/23 - 0s - loss: 0.4277 - accuracy: 0.7994 - val_loss: 0.4510 - val_accuracy: 0.7921\n",
            "Epoch 151/200\n",
            "23/23 - 0s - loss: 0.4282 - accuracy: 0.8022 - val_loss: 0.4509 - val_accuracy: 0.7865\n",
            "Epoch 152/200\n",
            "23/23 - 0s - loss: 0.4273 - accuracy: 0.7980 - val_loss: 0.4511 - val_accuracy: 0.7921\n",
            "Epoch 153/200\n",
            "23/23 - 0s - loss: 0.4282 - accuracy: 0.7994 - val_loss: 0.4513 - val_accuracy: 0.8034\n",
            "Epoch 154/200\n",
            "23/23 - 0s - loss: 0.4272 - accuracy: 0.8022 - val_loss: 0.4510 - val_accuracy: 0.7865\n",
            "Epoch 155/200\n",
            "23/23 - 0s - loss: 0.4277 - accuracy: 0.8036 - val_loss: 0.4510 - val_accuracy: 0.7865\n",
            "Epoch 156/200\n",
            "23/23 - 0s - loss: 0.4274 - accuracy: 0.8008 - val_loss: 0.4516 - val_accuracy: 0.8034\n",
            "Epoch 157/200\n",
            "23/23 - 0s - loss: 0.4275 - accuracy: 0.7966 - val_loss: 0.4510 - val_accuracy: 0.7921\n",
            "Epoch 158/200\n",
            "23/23 - 0s - loss: 0.4268 - accuracy: 0.7980 - val_loss: 0.4511 - val_accuracy: 0.7921\n",
            "Epoch 159/200\n",
            "23/23 - 0s - loss: 0.4291 - accuracy: 0.7966 - val_loss: 0.4512 - val_accuracy: 0.8034\n",
            "Epoch 160/200\n",
            "23/23 - 0s - loss: 0.4270 - accuracy: 0.7980 - val_loss: 0.4516 - val_accuracy: 0.7978\n",
            "Epoch 161/200\n",
            "23/23 - 0s - loss: 0.4279 - accuracy: 0.7980 - val_loss: 0.4510 - val_accuracy: 0.7921\n",
            "Epoch 162/200\n",
            "23/23 - 0s - loss: 0.4264 - accuracy: 0.7980 - val_loss: 0.4513 - val_accuracy: 0.8034\n",
            "Epoch 163/200\n",
            "23/23 - 0s - loss: 0.4266 - accuracy: 0.7966 - val_loss: 0.4513 - val_accuracy: 0.8034\n",
            "Epoch 164/200\n",
            "23/23 - 0s - loss: 0.4268 - accuracy: 0.7994 - val_loss: 0.4511 - val_accuracy: 0.8034\n",
            "Epoch 165/200\n",
            "23/23 - 0s - loss: 0.4272 - accuracy: 0.8036 - val_loss: 0.4512 - val_accuracy: 0.7865\n",
            "Epoch 166/200\n",
            "23/23 - 0s - loss: 0.4267 - accuracy: 0.7980 - val_loss: 0.4512 - val_accuracy: 0.8034\n",
            "Epoch 167/200\n",
            "23/23 - 0s - loss: 0.4261 - accuracy: 0.7980 - val_loss: 0.4512 - val_accuracy: 0.8034\n",
            "Epoch 168/200\n",
            "23/23 - 0s - loss: 0.4262 - accuracy: 0.7952 - val_loss: 0.4511 - val_accuracy: 0.7921\n",
            "Epoch 169/200\n",
            "23/23 - 0s - loss: 0.4264 - accuracy: 0.7980 - val_loss: 0.4512 - val_accuracy: 0.7921\n",
            "Epoch 170/200\n",
            "23/23 - 0s - loss: 0.4267 - accuracy: 0.8022 - val_loss: 0.4513 - val_accuracy: 0.7865\n",
            "Epoch 171/200\n",
            "23/23 - 0s - loss: 0.4268 - accuracy: 0.7994 - val_loss: 0.4517 - val_accuracy: 0.7978\n",
            "Epoch 172/200\n",
            "23/23 - 0s - loss: 0.4263 - accuracy: 0.7994 - val_loss: 0.4513 - val_accuracy: 0.8034\n",
            "Epoch 173/200\n",
            "23/23 - 0s - loss: 0.4260 - accuracy: 0.7952 - val_loss: 0.4518 - val_accuracy: 0.7978\n",
            "Epoch 174/200\n",
            "23/23 - 0s - loss: 0.4258 - accuracy: 0.7980 - val_loss: 0.4515 - val_accuracy: 0.8034\n",
            "Epoch 175/200\n",
            "23/23 - 0s - loss: 0.4257 - accuracy: 0.7980 - val_loss: 0.4515 - val_accuracy: 0.8034\n",
            "Epoch 176/200\n",
            "23/23 - 0s - loss: 0.4257 - accuracy: 0.7980 - val_loss: 0.4513 - val_accuracy: 0.8034\n",
            "Epoch 177/200\n",
            "23/23 - 0s - loss: 0.4259 - accuracy: 0.7994 - val_loss: 0.4515 - val_accuracy: 0.8034\n",
            "Epoch 178/200\n",
            "23/23 - 0s - loss: 0.4255 - accuracy: 0.7966 - val_loss: 0.4513 - val_accuracy: 0.7921\n",
            "Epoch 179/200\n",
            "23/23 - 0s - loss: 0.4267 - accuracy: 0.7980 - val_loss: 0.4514 - val_accuracy: 0.8034\n",
            "Epoch 180/200\n",
            "23/23 - 0s - loss: 0.4269 - accuracy: 0.8008 - val_loss: 0.4513 - val_accuracy: 0.7921\n",
            "Epoch 181/200\n",
            "23/23 - 0s - loss: 0.4257 - accuracy: 0.8008 - val_loss: 0.4514 - val_accuracy: 0.8034\n",
            "Epoch 182/200\n",
            "23/23 - 0s - loss: 0.4257 - accuracy: 0.7952 - val_loss: 0.4516 - val_accuracy: 0.7978\n",
            "Epoch 183/200\n",
            "23/23 - 0s - loss: 0.4258 - accuracy: 0.7980 - val_loss: 0.4514 - val_accuracy: 0.8034\n",
            "Epoch 184/200\n",
            "23/23 - 0s - loss: 0.4258 - accuracy: 0.7966 - val_loss: 0.4519 - val_accuracy: 0.7978\n",
            "Epoch 185/200\n",
            "23/23 - 0s - loss: 0.4248 - accuracy: 0.7980 - val_loss: 0.4514 - val_accuracy: 0.7921\n",
            "Epoch 186/200\n",
            "23/23 - 0s - loss: 0.4254 - accuracy: 0.8022 - val_loss: 0.4516 - val_accuracy: 0.7865\n",
            "Epoch 187/200\n",
            "23/23 - 0s - loss: 0.4258 - accuracy: 0.7966 - val_loss: 0.4518 - val_accuracy: 0.7978\n",
            "Epoch 188/200\n",
            "23/23 - 0s - loss: 0.4244 - accuracy: 0.7938 - val_loss: 0.4513 - val_accuracy: 0.7921\n",
            "Epoch 189/200\n",
            "23/23 - 0s - loss: 0.4264 - accuracy: 0.8050 - val_loss: 0.4514 - val_accuracy: 0.7921\n",
            "Epoch 190/200\n",
            "23/23 - 0s - loss: 0.4252 - accuracy: 0.7966 - val_loss: 0.4517 - val_accuracy: 0.8034\n",
            "Epoch 191/200\n",
            "23/23 - 0s - loss: 0.4249 - accuracy: 0.7980 - val_loss: 0.4515 - val_accuracy: 0.7921\n",
            "Epoch 192/200\n",
            "23/23 - 0s - loss: 0.4255 - accuracy: 0.7910 - val_loss: 0.4518 - val_accuracy: 0.7978\n",
            "Epoch 193/200\n",
            "23/23 - 0s - loss: 0.4247 - accuracy: 0.7994 - val_loss: 0.4515 - val_accuracy: 0.8034\n",
            "Epoch 194/200\n",
            "23/23 - 0s - loss: 0.4248 - accuracy: 0.8022 - val_loss: 0.4516 - val_accuracy: 0.7809\n",
            "Epoch 195/200\n",
            "23/23 - 0s - loss: 0.4244 - accuracy: 0.8008 - val_loss: 0.4516 - val_accuracy: 0.8034\n",
            "Epoch 196/200\n",
            "23/23 - 0s - loss: 0.4245 - accuracy: 0.7966 - val_loss: 0.4516 - val_accuracy: 0.8034\n",
            "Epoch 197/200\n",
            "23/23 - 0s - loss: 0.4250 - accuracy: 0.7938 - val_loss: 0.4517 - val_accuracy: 0.7978\n",
            "Epoch 198/200\n",
            "23/23 - 0s - loss: 0.4251 - accuracy: 0.7966 - val_loss: 0.4521 - val_accuracy: 0.7921\n",
            "Epoch 199/200\n",
            "23/23 - 0s - loss: 0.4248 - accuracy: 0.8008 - val_loss: 0.4518 - val_accuracy: 0.7978\n",
            "Epoch 200/200\n",
            "23/23 - 0s - loss: 0.4246 - accuracy: 0.7952 - val_loss: 0.4519 - val_accuracy: 0.7978\n",
            "28/28 [==============================] - 0s 333us/step - loss: 0.4294 - accuracy: 0.7980\n"
          ]
        },
        {
          "data": {
            "image/png": "[encoded data removed]",
            "text/plain": [
              "<Figure size 432x288 with 1 Axes>"
            ]
          },
          "metadata": {
            "needs_background": "light"
          },
          "output_type": "display_data"
        },
        {
          "data": {
            "image/png": "[encoded data removed]",
            "text/plain": [
              "<Figure size 432x288 with 1 Axes>"
            ]
          },
          "metadata": {
            "needs_background": "light"
          },
          "output_type": "display_data"
        }
      ],
      "source": [
        "#Sie können von folgendem Code starten um das Netzwerk zu definieren, füllen Sie die ...\n",
        "import tensorflow as tf\n",
        "import tensorflow.keras \n",
        "from tensorflow.keras.models import Sequential\n",
        "from tensorflow.keras.layers import Dense\n",
        "import matplotlib.pyplot as plt\n",
        "model = Sequential()\n",
        "model.add(Dense(10, activation='sigmoid', batch_input_shape=(None, 6))) #We have 4 input features\n",
        "#...\n",
        "# model.add(Dense(10, activation='sigmoid'))\n",
        "# model.add(Dense(20, activation='sigmoid'))\n",
        "model.add(Dense(1, activation='sigmoid'))\n",
        "opt = tf.keras.optimizers.Adam(learning_rate=1e-3)\n",
        "model.compile(loss=tf.keras.losses.BinaryCrossentropy(),\n",
        "              optimizer=opt,\n",
        "              metrics=['accuracy'])\n",
        "model.summary()\n",
        "\n",
        "train_val = pd.read_csv('titanic/train.csv')\n",
        "train_val = pd.get_dummies(train_val, columns=[\"Pclass\", \"Sex\"], sparse=False)\n",
        "train_val[\"Age\"].fillna(train[\"Age\"].median(skipna=True), inplace=True)\n",
        "train = train_val.sample(frac=0.8)\n",
        "val = train_val.drop(train.index)\n",
        "\n",
        "history = model.fit(train[[\"Pclass_1\", \"Pclass_2\", \"Pclass_3\", \"Sex_male\", \"Sex_female\", \"Age\"]], train[\"Survived\"],\n",
        "                    batch_size=32,\n",
        "                    epochs=100,\n",
        "                    verbose=2,\n",
        "                    validation_data=(val[[\"Pclass_1\", \"Pclass_2\", \"Pclass_3\", \"Sex_male\", \"Sex_female\", \"Age\"]], val[\"Survived\"]))\n",
        "model.evaluate(train_val[[\"Pclass_1\", \"Pclass_2\", \"Pclass_3\", \"Sex_male\", \"Sex_female\", \"Age\"]], train_val[\"Survived\"])\n",
        "\n",
        "# summarize history for accuracy\n",
        "plt.plot(history.history['accuracy'])\n",
        "plt.plot(history.history['val_accuracy'])\n",
        "plt.title('model accuracy')\n",
        "plt.ylabel('accuracy')\n",
        "plt.xlabel('epoch')\n",
        "plt.legend(['train', 'test'], loc='upper left')\n",
        "plt.show()\n",
        "# summarize history for loss\n",
        "plt.plot(history.history['loss'])\n",
        "plt.plot(history.history['val_loss'])\n",
        "plt.title('model loss')\n",
        "plt.ylabel('loss')\n",
        "plt.xlabel('epoch')\n",
        "plt.legend(['train', 'test'], loc='upper left')\n",
        "plt.show()"
      ]
    },
    {
      "cell_type": "code",
      "execution_count": null,
      "metadata": {
        "id": "9M8BQdo5wWgs"
      },
      "outputs": [],
      "source": []
    }
  ],
  "metadata": {
    "colab": {
      "name": "ki_ml_blatt_1.ipynb",
      "provenance": []
    },
    "interpreter": {
      "hash": "ad8259fb0131ae414e0fed75b17e89163033ec83dd8a20ff234b9709c1123196"
    },
    "kernelspec": {
      "display_name": "Python 3.9.4 64-bit",
      "language": "python",
      "name": "python3"
    },
    "language_info": {
      "codemirror_mode": {
        "name": "ipython",
        "version": 3
      },
      "file_extension": ".py",
      "mimetype": "text/x-python",
      "name": "python",
      "nbconvert_exporter": "python",
      "pygments_lexer": "ipython3",
      "version": "3.9.4"
    }
  },
  "nbformat": 4,
  "nbformat_minor": 0
}
