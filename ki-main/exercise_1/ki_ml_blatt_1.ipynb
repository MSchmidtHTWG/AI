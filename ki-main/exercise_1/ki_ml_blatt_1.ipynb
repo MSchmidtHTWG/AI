{
  "cells": [
    {
      "cell_type": "markdown",
      "metadata": {
        "id": "PohCF88YwWgk"
      },
      "source": [
        "# Aufgaben Blatt 4 KI Machine Learning I\n",
        "\n"
      ]
    },
    {
      "cell_type": "markdown",
      "metadata": {
        "id": "r9sieFkrwWgm"
      },
      "source": [
        "## Aufgabe 1 (Lineare Regression)\n",
        "\n",
        "Bearbeiten Sie die Aufgabe https://github.com/oduerr/ki/blob/main/linear_regression/lr_gradient_descent.ipynb\n",
        "\n",
        "Versuchen Sie den Code zu verstehen und machen die kleineren Aufgaben, die in dem notebook besprochen werden."
      ]
    },
    {
      "cell_type": "markdown",
      "metadata": {
        "id": "hr2BSdsNwWgm"
      },
      "source": [
        "## Aufgabe 2 (Titanic)\n",
        "In dieser Aufgabe nehmen Sie an der Titanic Challenge (https://www.kaggle.com/c/titanic) teil. Sie können die Aufgabe am eigenen PC lösen oder direkt in Kaggle lösen. Die Daten liegen auch auf Moodle. "
      ]
    },
    {
      "cell_type": "markdown",
      "metadata": {
        "id": "f-_0tiX-wWgm"
      },
      "source": [
        "a) Lesen Sie die Trainingsdaten ein und teilen Sie sie in ein Validierungsdatenset (20%) und in ein eigentliches Trainigsdatenset (80%) auf. Finden Sie auf dem Trainigsdatenset eine Regel für das Überleben alleine aufgrund der Klasse des Tickets (Pclass). Wenden Sie diese Regel auf die Validierungsdaten an. Wie gut ist die Genauigkeit (Anteil der korrekten Klassifikationen) auf den Validierungsdaten?  "
      ]
    },
    {
      "cell_type": "code",
      "execution_count": 120,
      "metadata": {
        "id": "PGm0-jEawWgn"
      },
      "outputs": [
        {
          "data": {
            "text/plain": [
              "0.6573033707865169"
            ]
          },
          "execution_count": 120,
          "metadata": {},
          "output_type": "execute_result"
        }
      ],
      "source": [
        "# Hinweise zum Einlesen\n",
        "import pandas as pd # data processing, CSV file I/O (e.g. pd.read_csv)\n",
        "import numpy as np\n",
        "train_val = pd.read_csv('titanic/train.csv')\n",
        "train = train_val.sample(frac=0.8)\n",
        "val = train_val.drop(train.index)\n",
        "\n",
        "# Hinweise zum Erzeugen einer Tabelle\n",
        "# ct = pd.crosstab(train_data.Pclass, train_data.Survived)\n",
        "train_data_survivalrate = train[['Pclass', 'Survived']].groupby(['Pclass'], as_index=True).mean().sort_values(by='Survived', ascending=False)\n",
        "pred = list()\n",
        "pred_survived = list()\n",
        "train_data_predictions = np.round(train_data_survivalrate['Survived'])\n",
        "for data in train_data_survivalrate['Survived']:\n",
        "    if data >= 0.5:\n",
        "        pred.append(1)\n",
        "    else:\n",
        "        pred.append(0)\n",
        "for data in val['Pclass']:\n",
        "    pred_survived.append(pred[data-1])\n",
        "    \n",
        "# Hinweise um die Accuracy zu berechnen\n",
        "from sklearn.metrics import accuracy_score\n",
        "accuracy_score(val['Survived'], pred_survived)\n"
      ]
    },
    {
      "cell_type": "markdown",
      "metadata": {
        "id": "AAb6YDtTwWgn"
      },
      "source": [
        "b) Wenden Sie die Regel aus a) auf die Testdaten an und laden Sie Ihre Lösung hoch. "
      ]
    },
    {
      "cell_type": "code",
      "execution_count": 117,
      "metadata": {
        "id": "SeplTB8SwWgo",
        "outputId": "98e2e1d5-0b85-4bb6-beb5-25e200b94913"
      },
      "outputs": [
        {
          "name": "stdout",
          "output_type": "stream",
          "text": [
            "Your submission was successfully saved!\n"
          ]
        }
      ],
      "source": [
        "#############################################\n",
        "# Hinweise zum rausschreiben\n",
        "pred_survived #Enhält die Predictions 0 für Tod 1 für Survived\n",
        "output = pd.DataFrame({'PassengerId': val.PassengerId, 'Survived': pred_survived})\n",
        "output.to_csv('my_submission.csv', index=False)\n",
        "print(\"Your submission was successfully saved!\")"
      ]
    },
    {
      "cell_type": "markdown",
      "metadata": {
        "id": "q0YqDhK3wWgp"
      },
      "source": [
        "c) Logistische Regression mit Pclass\n",
        "\n",
        "Trainieren Sie eine logistische Regression mit den Variablen 'Pclass'. Verwenden Sie die Klasse `sklearn.linear_model.LogisticRegression`. Berechnen Sie die Accuracy auf dem Validierungsset."
      ]
    },
    {
      "cell_type": "code",
      "execution_count": 183,
      "metadata": {},
      "outputs": [
        {
          "data": {
            "text/plain": [
              "68.72"
            ]
          },
          "execution_count": 183,
          "metadata": {},
          "output_type": "execute_result"
        }
      ],
      "source": [
        "from sklearn.linear_model import LogisticRegression\n",
        "model = LogisticRegression()\n",
        "x_train = train[[\"Pclass\"]]\n",
        "y_train = train[\"Survived\"]\n",
        "x_test = val[[\"Pclass\"]]\n",
        "model.fit(x_train, y_train)\n",
        "model.predict(x_test)\n",
        "accuracy = round(model.score(x_train, y_train) * 100, 2)\n",
        "accuracy"
      ]
    },
    {
      "cell_type": "markdown",
      "metadata": {
        "id": "p-xC04XswWgp"
      },
      "source": [
        "d) Coding / Feature engineering \n",
        "\n",
        "d.i) Missing Values:\n",
        "\n",
        "Verwenden Sie nun weitere Features. Die Variable Age enthält Missing values, die Sie durch folgenden code ersetzen können (was passiert da?)"
      ]
    },
    {
      "cell_type": "code",
      "execution_count": 176,
      "metadata": {
        "id": "6i9qi9ywwWgq"
      },
      "outputs": [
        {
          "data": {
            "text/plain": [
              "61.99"
            ]
          },
          "execution_count": 176,
          "metadata": {},
          "output_type": "execute_result"
        }
      ],
      "source": [
        "train_val = pd.read_csv('titanic/train.csv')\n",
        "train = train_val.sample(frac=0.8)\n",
        "val = train_val.drop(train.index)\n",
        "val[\"Age\"].fillna(train[\"Age\"].median(skipna=True), inplace=True)\n",
        "train[\"Age\"].fillna(train[\"Age\"].median(skipna=True), inplace=True)\n",
        "model = LogisticRegression()\n",
        "x_train = train[[\"Age\"]]\n",
        "y_train = train[\"Survived\"]\n",
        "x_test = val[[\"Age\"]]\n",
        "model.fit(x_train, y_train)\n",
        "model.predict(x_test)\n",
        "accuracy = round(model.score(x_train, y_train) * 100, 2)\n",
        "accuracy"
      ]
    },
    {
      "cell_type": "markdown",
      "metadata": {
        "id": "qxNwZco7wWgq"
      },
      "source": [
        "d.ii) Kategorische Variable\n",
        "\n",
        "Verwenden Sie die Funktion `pd.get_dummies` um die Variablen 'Pclass' and 'Sex' in numerische Werte umzuwandeln. Führen Sie nun eine logistische Regression durch."
      ]
    },
    {
      "cell_type": "code",
      "execution_count": 146,
      "metadata": {},
      "outputs": [
        {
          "data": {
            "text/plain": [
              "67.88"
            ]
          },
          "execution_count": 146,
          "metadata": {},
          "output_type": "execute_result"
        }
      ],
      "source": [
        "dummie_data = pd.get_dummies(train_val, columns=[\"Pclass\", \"Sex\"], sparse=False)\n",
        "train = dummie_data.sample(frac=0.8)\n",
        "val = dummie_data.drop(train.index)\n",
        "model = LogisticRegression()\n",
        "x_train = train[[\"Pclass_1\", \"Pclass_2\", \"Pclass_3\"]]\n",
        "y_train = train[\"Survived\"]\n",
        "x_test = val[[\"Pclass_1\", \"Pclass_2\", \"Pclass_3\"]]\n",
        "model.fit(x_train, y_train)\n",
        "model.predict(x_test)\n",
        "accuracy = round(model.score(x_train, y_train) * 100, 2)\n",
        "accuracy"
      ]
    },
    {
      "cell_type": "code",
      "execution_count": 145,
      "metadata": {},
      "outputs": [
        {
          "data": {
            "text/plain": [
              "79.94"
            ]
          },
          "execution_count": 145,
          "metadata": {},
          "output_type": "execute_result"
        }
      ],
      "source": [
        "model = LogisticRegression()\n",
        "train = dummie_data.sample(frac=0.8)\n",
        "val = dummie_data.drop(train.index)\n",
        "x_train = train[[\"Sex_female\", \"Sex_male\"]]\n",
        "y_train = train[\"Survived\"]\n",
        "x_test = val[[\"Sex_female\", \"Sex_male\"]]\n",
        "model.fit(x_train, y_train)\n",
        "model.predict(x_test)\n",
        "accuracy = round(model.score(x_train, y_train) * 100, 2)\n",
        "accuracy"
      ]
    },
    {
      "cell_type": "code",
      "execution_count": 163,
      "metadata": {},
      "outputs": [
        {
          "data": {
            "text/plain": [
              "78.96"
            ]
          },
          "execution_count": 163,
          "metadata": {},
          "output_type": "execute_result"
        }
      ],
      "source": [
        "model = LogisticRegression()\n",
        "train = dummie_data.sample(frac=0.8)\n",
        "val = dummie_data.drop(train.index)\n",
        "x_train = train[[\"Sex_female\", \"Sex_male\", \"Pclass_1\", \"Pclass_2\", \"Pclass_3\"]]\n",
        "y_train = train[\"Survived\"]\n",
        "x_test = val[[\"Sex_female\", \"Sex_male\", \"Pclass_1\", \"Pclass_2\", \"Pclass_3\"]]\n",
        "model.fit(x_train, y_train)\n",
        "model.predict(x_test)\n",
        "accuracy = round(model.score(x_train, y_train) * 100, 2)\n",
        "accuracy"
      ]
    },
    {
      "cell_type": "markdown",
      "metadata": {
        "id": "yu8UOcKAwWgq"
      },
      "source": [
        "e) Weitere Klassifikatoren. Neben der logistischen Regression, gibt es weitere Klassifikatoren. Der Random-Forest ist ein recht stabiler Klassifikator, was wäre die Performance von diesem Klassifikator."
      ]
    },
    {
      "cell_type": "code",
      "execution_count": 182,
      "metadata": {
        "id": "v0eRJVGSwWgr"
      },
      "outputs": [
        {
          "data": {
            "text/plain": [
              "68.72"
            ]
          },
          "execution_count": 182,
          "metadata": {},
          "output_type": "execute_result"
        }
      ],
      "source": [
        "# Hinweise zur Lösung\n",
        "from sklearn.ensemble import RandomForestClassifier\n",
        "rf = RandomForestClassifier()\n",
        "train_val = pd.read_csv('titanic/train.csv')\n",
        "train = train_val.sample(frac=0.8)\n",
        "val = train_val.drop(train.index)\n",
        "x_train = train[[\"Pclass\"]]\n",
        "y_train = train[\"Survived\"]\n",
        "x_test = val[[\"Pclass\"]]\n",
        "model.fit(x_train, y_train)\n",
        "model.predict(x_test)\n",
        "accuracy = round(model.score(x_train, y_train) * 100, 2)\n",
        "accuracy\n",
        "#rf hat nun gleiches interface, wie die logistische Regression"
      ]
    },
    {
      "cell_type": "markdown",
      "metadata": {
        "id": "Oe_oIy11wWgr"
      },
      "source": [
        "f) [optional] Versuchen Sie weitere Features zu erzeugen und laden den besten Klassifikator auf Kaggle hoch. "
      ]
    },
    {
      "cell_type": "markdown",
      "metadata": {
        "id": "fc49pWuewWgr"
      },
      "source": [
        "## Aufgabe 3 Titanic mit Neuronalen Netzen \n",
        "\n",
        "Hinweis: Diese Aufgabe kann erst nach der dritten Vorlesung in ML gemacht werden.\n",
        "\n",
        "Mit den gleichen Daten, wie in der Aufgabe 2 d. Erstellen Sie ein fully connected neural network und fitten es an die Ttrainingsdaten. Verwenden Sie mindestens zwei hidden Layer. Plotten Sie den Verlauf der Loss Kurve für die Trainings- und Validierungsdaten. Optional: Laden Sie Ihre beste Lösung auf Kaggle hoch. "
      ]
    },
    {
      "cell_type": "code",
      "execution_count": 219,
      "metadata": {
        "id": "aYxfamTkwWgr",
        "outputId": "80a28e11-8256-4ab2-97ad-8f1d0ddda78e"
      },
      "outputs": [
        {
          "name": "stdout",
          "output_type": "stream",
          "text": [
            "Model: \"sequential_35\"\n",
            "_________________________________________________________________\n",
            "Layer (type)                 Output Shape              Param #   \n",
            "=================================================================\n",
            "dense_99 (Dense)             (None, 10)                70        \n",
            "_________________________________________________________________\n",
            "dense_100 (Dense)            (None, 5)                 55        \n",
            "_________________________________________________________________\n",
            "dense_101 (Dense)            (None, 1)                 6         \n",
            "=================================================================\n",
            "Total params: 131\n",
            "Trainable params: 131\n",
            "Non-trainable params: 0\n",
            "_________________________________________________________________\n",
            "Epoch 1/100\n",
            "23/23 - 0s - loss: 0.6831 - accuracy: 0.6171 - val_loss: 0.6793 - val_accuracy: 0.6124\n",
            "Epoch 2/100\n",
            "23/23 - 0s - loss: 0.6740 - accuracy: 0.6171 - val_loss: 0.6710 - val_accuracy: 0.6124\n",
            "Epoch 3/100\n",
            "23/23 - 0s - loss: 0.6678 - accuracy: 0.6171 - val_loss: 0.6682 - val_accuracy: 0.6124\n",
            "Epoch 4/100\n",
            "23/23 - 0s - loss: 0.6660 - accuracy: 0.6171 - val_loss: 0.6674 - val_accuracy: 0.6124\n",
            "Epoch 5/100\n",
            "23/23 - 0s - loss: 0.6651 - accuracy: 0.6171 - val_loss: 0.6666 - val_accuracy: 0.6124\n",
            "Epoch 6/100\n",
            "23/23 - 0s - loss: 0.6647 - accuracy: 0.6171 - val_loss: 0.6662 - val_accuracy: 0.6124\n",
            "Epoch 7/100\n",
            "23/23 - 0s - loss: 0.6640 - accuracy: 0.6171 - val_loss: 0.6656 - val_accuracy: 0.6124\n",
            "Epoch 8/100\n",
            "23/23 - 0s - loss: 0.6633 - accuracy: 0.6171 - val_loss: 0.6648 - val_accuracy: 0.6124\n",
            "Epoch 9/100\n",
            "23/23 - 0s - loss: 0.6624 - accuracy: 0.6171 - val_loss: 0.6639 - val_accuracy: 0.6124\n",
            "Epoch 10/100\n",
            "23/23 - 0s - loss: 0.6615 - accuracy: 0.6171 - val_loss: 0.6628 - val_accuracy: 0.6124\n",
            "Epoch 11/100\n",
            "23/23 - 0s - loss: 0.6604 - accuracy: 0.6171 - val_loss: 0.6617 - val_accuracy: 0.6124\n",
            "Epoch 12/100\n",
            "23/23 - 0s - loss: 0.6589 - accuracy: 0.6171 - val_loss: 0.6602 - val_accuracy: 0.6124\n",
            "Epoch 13/100\n",
            "23/23 - 0s - loss: 0.6575 - accuracy: 0.6171 - val_loss: 0.6586 - val_accuracy: 0.6124\n",
            "Epoch 14/100\n",
            "23/23 - 0s - loss: 0.6555 - accuracy: 0.6171 - val_loss: 0.6568 - val_accuracy: 0.6124\n",
            "Epoch 15/100\n",
            "23/23 - 0s - loss: 0.6538 - accuracy: 0.6171 - val_loss: 0.6548 - val_accuracy: 0.6124\n",
            "Epoch 16/100\n",
            "23/23 - 0s - loss: 0.6514 - accuracy: 0.6171 - val_loss: 0.6527 - val_accuracy: 0.6124\n",
            "Epoch 17/100\n",
            "23/23 - 0s - loss: 0.6493 - accuracy: 0.6171 - val_loss: 0.6502 - val_accuracy: 0.6124\n",
            "Epoch 18/100\n",
            "23/23 - 0s - loss: 0.6470 - accuracy: 0.6171 - val_loss: 0.6478 - val_accuracy: 0.6124\n",
            "Epoch 19/100\n",
            "23/23 - 0s - loss: 0.6439 - accuracy: 0.6171 - val_loss: 0.6451 - val_accuracy: 0.6124\n",
            "Epoch 20/100\n",
            "23/23 - 0s - loss: 0.6415 - accuracy: 0.6171 - val_loss: 0.6422 - val_accuracy: 0.6124\n",
            "Epoch 21/100\n",
            "23/23 - 0s - loss: 0.6386 - accuracy: 0.6171 - val_loss: 0.6390 - val_accuracy: 0.6124\n",
            "Epoch 22/100\n",
            "23/23 - 0s - loss: 0.6353 - accuracy: 0.6171 - val_loss: 0.6359 - val_accuracy: 0.6124\n",
            "Epoch 23/100\n",
            "23/23 - 0s - loss: 0.6320 - accuracy: 0.6171 - val_loss: 0.6326 - val_accuracy: 0.6180\n",
            "Epoch 24/100\n",
            "23/23 - 0s - loss: 0.6286 - accuracy: 0.6185 - val_loss: 0.6292 - val_accuracy: 0.6180\n",
            "Epoch 25/100\n",
            "23/23 - 0s - loss: 0.6254 - accuracy: 0.6213 - val_loss: 0.6257 - val_accuracy: 0.6180\n",
            "Epoch 26/100\n",
            "23/23 - 0s - loss: 0.6220 - accuracy: 0.6199 - val_loss: 0.6219 - val_accuracy: 0.6292\n",
            "Epoch 27/100\n",
            "23/23 - 0s - loss: 0.6179 - accuracy: 0.6241 - val_loss: 0.6182 - val_accuracy: 0.6236\n",
            "Epoch 28/100\n",
            "23/23 - 0s - loss: 0.6143 - accuracy: 0.6241 - val_loss: 0.6140 - val_accuracy: 0.6236\n",
            "Epoch 29/100\n",
            "23/23 - 0s - loss: 0.6104 - accuracy: 0.6241 - val_loss: 0.6102 - val_accuracy: 0.6236\n",
            "Epoch 30/100\n",
            "23/23 - 0s - loss: 0.6062 - accuracy: 0.6297 - val_loss: 0.6061 - val_accuracy: 0.6236\n",
            "Epoch 31/100\n",
            "23/23 - 0s - loss: 0.6023 - accuracy: 0.6353 - val_loss: 0.6020 - val_accuracy: 0.6292\n",
            "Epoch 32/100\n",
            "23/23 - 0s - loss: 0.5979 - accuracy: 0.6396 - val_loss: 0.5978 - val_accuracy: 0.6292\n",
            "Epoch 33/100\n",
            "23/23 - 0s - loss: 0.5940 - accuracy: 0.6381 - val_loss: 0.5935 - val_accuracy: 0.6292\n",
            "Epoch 34/100\n",
            "23/23 - 0s - loss: 0.5896 - accuracy: 0.6396 - val_loss: 0.5889 - val_accuracy: 0.6348\n",
            "Epoch 35/100\n",
            "23/23 - 0s - loss: 0.5851 - accuracy: 0.6396 - val_loss: 0.5843 - val_accuracy: 0.6461\n",
            "Epoch 36/100\n",
            "23/23 - 0s - loss: 0.5809 - accuracy: 0.6452 - val_loss: 0.5798 - val_accuracy: 0.6573\n",
            "Epoch 37/100\n",
            "23/23 - 0s - loss: 0.5765 - accuracy: 0.6732 - val_loss: 0.5755 - val_accuracy: 0.7022\n",
            "Epoch 38/100\n",
            "23/23 - 0s - loss: 0.5716 - accuracy: 0.6816 - val_loss: 0.5705 - val_accuracy: 0.7191\n",
            "Epoch 39/100\n",
            "23/23 - 0s - loss: 0.5668 - accuracy: 0.7069 - val_loss: 0.5657 - val_accuracy: 0.7416\n",
            "Epoch 40/100\n",
            "23/23 - 0s - loss: 0.5620 - accuracy: 0.7405 - val_loss: 0.5608 - val_accuracy: 0.7865\n",
            "Epoch 41/100\n",
            "23/23 - 0s - loss: 0.5569 - accuracy: 0.7854 - val_loss: 0.5558 - val_accuracy: 0.7978\n",
            "Epoch 42/100\n",
            "23/23 - 0s - loss: 0.5528 - accuracy: 0.7854 - val_loss: 0.5509 - val_accuracy: 0.7978\n",
            "Epoch 43/100\n",
            "23/23 - 0s - loss: 0.5489 - accuracy: 0.7966 - val_loss: 0.5462 - val_accuracy: 0.7978\n",
            "Epoch 44/100\n",
            "23/23 - 0s - loss: 0.5419 - accuracy: 0.7966 - val_loss: 0.5423 - val_accuracy: 0.7978\n",
            "Epoch 45/100\n",
            "23/23 - 0s - loss: 0.5381 - accuracy: 0.7966 - val_loss: 0.5372 - val_accuracy: 0.7978\n",
            "Epoch 46/100\n",
            "23/23 - 0s - loss: 0.5336 - accuracy: 0.7966 - val_loss: 0.5327 - val_accuracy: 0.7978\n",
            "Epoch 47/100\n",
            "23/23 - 0s - loss: 0.5288 - accuracy: 0.7980 - val_loss: 0.5285 - val_accuracy: 0.7978\n",
            "Epoch 48/100\n",
            "23/23 - 0s - loss: 0.5246 - accuracy: 0.7994 - val_loss: 0.5240 - val_accuracy: 0.7978\n",
            "Epoch 49/100\n",
            "23/23 - 0s - loss: 0.5203 - accuracy: 0.8022 - val_loss: 0.5196 - val_accuracy: 0.8034\n",
            "Epoch 50/100\n",
            "23/23 - 0s - loss: 0.5159 - accuracy: 0.8008 - val_loss: 0.5155 - val_accuracy: 0.8090\n",
            "Epoch 51/100\n",
            "23/23 - 0s - loss: 0.5128 - accuracy: 0.8008 - val_loss: 0.5117 - val_accuracy: 0.7978\n",
            "Epoch 52/100\n",
            "23/23 - 0s - loss: 0.5080 - accuracy: 0.8008 - val_loss: 0.5076 - val_accuracy: 0.7921\n",
            "Epoch 53/100\n",
            "23/23 - 0s - loss: 0.5042 - accuracy: 0.7980 - val_loss: 0.5040 - val_accuracy: 0.7921\n",
            "Epoch 54/100\n",
            "23/23 - 0s - loss: 0.5005 - accuracy: 0.7966 - val_loss: 0.5004 - val_accuracy: 0.7978\n",
            "Epoch 55/100\n",
            "23/23 - 0s - loss: 0.4972 - accuracy: 0.8008 - val_loss: 0.4970 - val_accuracy: 0.8090\n",
            "Epoch 56/100\n",
            "23/23 - 0s - loss: 0.4940 - accuracy: 0.7980 - val_loss: 0.4937 - val_accuracy: 0.8146\n",
            "Epoch 57/100\n",
            "23/23 - 0s - loss: 0.4904 - accuracy: 0.8022 - val_loss: 0.4906 - val_accuracy: 0.7921\n",
            "Epoch 58/100\n",
            "23/23 - 0s - loss: 0.4874 - accuracy: 0.8093 - val_loss: 0.4874 - val_accuracy: 0.7978\n",
            "Epoch 59/100\n",
            "23/23 - 0s - loss: 0.4856 - accuracy: 0.8036 - val_loss: 0.4855 - val_accuracy: 0.8146\n",
            "Epoch 60/100\n",
            "23/23 - 0s - loss: 0.4823 - accuracy: 0.8065 - val_loss: 0.4822 - val_accuracy: 0.7978\n",
            "Epoch 61/100\n",
            "23/23 - 0s - loss: 0.4797 - accuracy: 0.8107 - val_loss: 0.4796 - val_accuracy: 0.7921\n",
            "Epoch 62/100\n",
            "23/23 - 0s - loss: 0.4783 - accuracy: 0.8008 - val_loss: 0.4772 - val_accuracy: 0.7978\n",
            "Epoch 63/100\n",
            "23/23 - 0s - loss: 0.4756 - accuracy: 0.8079 - val_loss: 0.4758 - val_accuracy: 0.7978\n",
            "Epoch 64/100\n",
            "23/23 - 0s - loss: 0.4742 - accuracy: 0.8065 - val_loss: 0.4732 - val_accuracy: 0.7978\n",
            "Epoch 65/100\n",
            "23/23 - 0s - loss: 0.4718 - accuracy: 0.8079 - val_loss: 0.4713 - val_accuracy: 0.7978\n",
            "Epoch 66/100\n",
            "23/23 - 0s - loss: 0.4695 - accuracy: 0.8093 - val_loss: 0.4692 - val_accuracy: 0.7921\n",
            "Epoch 67/100\n",
            "23/23 - 0s - loss: 0.4684 - accuracy: 0.8008 - val_loss: 0.4676 - val_accuracy: 0.7978\n",
            "Epoch 68/100\n",
            "23/23 - 0s - loss: 0.4662 - accuracy: 0.8093 - val_loss: 0.4658 - val_accuracy: 0.7978\n",
            "Epoch 69/100\n",
            "23/23 - 0s - loss: 0.4654 - accuracy: 0.8121 - val_loss: 0.4645 - val_accuracy: 0.7978\n",
            "Epoch 70/100\n",
            "23/23 - 0s - loss: 0.4643 - accuracy: 0.8079 - val_loss: 0.4624 - val_accuracy: 0.7921\n",
            "Epoch 71/100\n",
            "23/23 - 0s - loss: 0.4620 - accuracy: 0.8093 - val_loss: 0.4608 - val_accuracy: 0.7921\n",
            "Epoch 72/100\n",
            "23/23 - 0s - loss: 0.4623 - accuracy: 0.8107 - val_loss: 0.4599 - val_accuracy: 0.7978\n",
            "Epoch 73/100\n",
            "23/23 - 0s - loss: 0.4592 - accuracy: 0.8121 - val_loss: 0.4579 - val_accuracy: 0.7921\n",
            "Epoch 74/100\n",
            "23/23 - 0s - loss: 0.4591 - accuracy: 0.8079 - val_loss: 0.4567 - val_accuracy: 0.7978\n",
            "Epoch 75/100\n",
            "23/23 - 0s - loss: 0.4577 - accuracy: 0.8008 - val_loss: 0.4552 - val_accuracy: 0.7921\n",
            "Epoch 76/100\n",
            "23/23 - 0s - loss: 0.4566 - accuracy: 0.8121 - val_loss: 0.4543 - val_accuracy: 0.7978\n",
            "Epoch 77/100\n",
            "23/23 - 0s - loss: 0.4554 - accuracy: 0.8107 - val_loss: 0.4533 - val_accuracy: 0.7978\n",
            "Epoch 78/100\n",
            "23/23 - 0s - loss: 0.4544 - accuracy: 0.8107 - val_loss: 0.4517 - val_accuracy: 0.7978\n",
            "Epoch 79/100\n",
            "23/23 - 0s - loss: 0.4537 - accuracy: 0.8121 - val_loss: 0.4507 - val_accuracy: 0.7978\n",
            "Epoch 80/100\n",
            "23/23 - 0s - loss: 0.4529 - accuracy: 0.8121 - val_loss: 0.4500 - val_accuracy: 0.7978\n",
            "Epoch 81/100\n",
            "23/23 - 0s - loss: 0.4516 - accuracy: 0.8107 - val_loss: 0.4485 - val_accuracy: 0.8034\n",
            "Epoch 82/100\n",
            "23/23 - 0s - loss: 0.4520 - accuracy: 0.7952 - val_loss: 0.4482 - val_accuracy: 0.8034\n",
            "Epoch 83/100\n",
            "23/23 - 0s - loss: 0.4512 - accuracy: 0.8079 - val_loss: 0.4466 - val_accuracy: 0.7978\n",
            "Epoch 84/100\n",
            "23/23 - 0s - loss: 0.4502 - accuracy: 0.8135 - val_loss: 0.4454 - val_accuracy: 0.8034\n",
            "Epoch 85/100\n",
            "23/23 - 0s - loss: 0.4486 - accuracy: 0.8121 - val_loss: 0.4449 - val_accuracy: 0.7978\n",
            "Epoch 86/100\n",
            "23/23 - 0s - loss: 0.4482 - accuracy: 0.8121 - val_loss: 0.4437 - val_accuracy: 0.8034\n",
            "Epoch 87/100\n",
            "23/23 - 0s - loss: 0.4479 - accuracy: 0.8093 - val_loss: 0.4430 - val_accuracy: 0.8034\n",
            "Epoch 88/100\n",
            "23/23 - 0s - loss: 0.4477 - accuracy: 0.8022 - val_loss: 0.4421 - val_accuracy: 0.8034\n",
            "Epoch 89/100\n",
            "23/23 - 0s - loss: 0.4463 - accuracy: 0.8107 - val_loss: 0.4412 - val_accuracy: 0.8034\n",
            "Epoch 90/100\n",
            "23/23 - 0s - loss: 0.4462 - accuracy: 0.8022 - val_loss: 0.4408 - val_accuracy: 0.8090\n",
            "Epoch 91/100\n",
            "23/23 - 0s - loss: 0.4463 - accuracy: 0.8121 - val_loss: 0.4396 - val_accuracy: 0.8034\n",
            "Epoch 92/100\n",
            "23/23 - 0s - loss: 0.4447 - accuracy: 0.8036 - val_loss: 0.4393 - val_accuracy: 0.8090\n",
            "Epoch 93/100\n",
            "23/23 - 0s - loss: 0.4442 - accuracy: 0.8107 - val_loss: 0.4382 - val_accuracy: 0.8034\n",
            "Epoch 94/100\n",
            "23/23 - 0s - loss: 0.4437 - accuracy: 0.8163 - val_loss: 0.4378 - val_accuracy: 0.8034\n",
            "Epoch 95/100\n",
            "23/23 - 0s - loss: 0.4429 - accuracy: 0.8079 - val_loss: 0.4369 - val_accuracy: 0.8034\n",
            "Epoch 96/100\n",
            "23/23 - 0s - loss: 0.4425 - accuracy: 0.8121 - val_loss: 0.4364 - val_accuracy: 0.8034\n",
            "Epoch 97/100\n",
            "23/23 - 0s - loss: 0.4430 - accuracy: 0.8121 - val_loss: 0.4354 - val_accuracy: 0.8034\n",
            "Epoch 98/100\n",
            "23/23 - 0s - loss: 0.4441 - accuracy: 0.7966 - val_loss: 0.4347 - val_accuracy: 0.8090\n",
            "Epoch 99/100\n",
            "23/23 - 0s - loss: 0.4415 - accuracy: 0.8093 - val_loss: 0.4346 - val_accuracy: 0.8034\n",
            "Epoch 100/100\n",
            "23/23 - 0s - loss: 0.4408 - accuracy: 0.8121 - val_loss: 0.4341 - val_accuracy: 0.8090\n",
            "28/28 [==============================] - 0s 333us/step - loss: 0.4392 - accuracy: 0.8036\n",
            "[0.4391593635082245, 0.8035914897918701]\n"
          ]
        },
        {
          "data": {
            "image/png": "[encoded data removed]",
            "text/plain": [
              "<Figure size 432x288 with 1 Axes>"
            ]
          },
          "metadata": {
            "needs_background": "light"
          },
          "output_type": "display_data"
        },
        {
          "data": {
            "image/png": "[encoded data removed]",
            "text/plain": [
              "<Figure size 432x288 with 1 Axes>"
            ]
          },
          "metadata": {
            "needs_background": "light"
          },
          "output_type": "display_data"
        }
      ],
      "source": [
        "#Sie können von folgendem Code starten um das Netzwerk zu definieren, füllen Sie die ...\n",
        "import tensorflow as tf\n",
        "import tensorflow.keras \n",
        "from tensorflow.keras.models import Sequential\n",
        "from tensorflow.keras.layers import Dense\n",
        "import matplotlib.pyplot as plt\n",
        "model = Sequential()\n",
        "model.add(Dense(10, activation='sigmoid', batch_input_shape=(None, 6))) #We have 4 input features\n",
        "#...\n",
        "model.add(Dense(5, activation='sigmoid'))\n",
        "# model.add(Dense(20, activation='sigmoid'))\n",
        "model.add(Dense(1, activation='sigmoid'))\n",
        "opt = tf.keras.optimizers.Adam(learning_rate=1e-3)\n",
        "model.compile(loss=tf.keras.losses.BinaryCrossentropy(),\n",
        "              optimizer=opt,\n",
        "              metrics=['accuracy'])\n",
        "model.summary()\n",
        "\n",
        "train_val = pd.read_csv('titanic/train.csv')\n",
        "train_val = pd.get_dummies(train_val, columns=[\"Pclass\", \"Sex\"], sparse=False)\n",
        "train_val[\"Age\"].fillna(train[\"Age\"].median(skipna=True), inplace=True)\n",
        "train = train_val.sample(frac=0.8)\n",
        "val = train_val.drop(train.index)\n",
        "\n",
        "history = model.fit(train[[\"Pclass_1\", \"Pclass_2\", \"Pclass_3\", \"Sex_male\", \"Sex_female\", \"Age\"]], train[\"Survived\"],\n",
        "                    batch_size=32,\n",
        "                    epochs=100,\n",
        "                    verbose=2,\n",
        "                    validation_data=(val[[\"Pclass_1\", \"Pclass_2\", \"Pclass_3\", \"Sex_male\", \"Sex_female\", \"Age\"]], val[\"Survived\"]))\n",
        "print(model.evaluate(train_val[[\"Pclass_1\", \"Pclass_2\", \"Pclass_3\", \"Sex_male\", \"Sex_female\", \"Age\"]], train_val[\"Survived\"]))\n",
        "\n",
        "# summarize history for accuracy\n",
        "plt.plot(history.history['accuracy'])\n",
        "plt.plot(history.history['val_accuracy'])\n",
        "plt.title('model accuracy')\n",
        "plt.ylabel('accuracy')\n",
        "plt.xlabel('epoch')\n",
        "plt.legend(['train', 'test'], loc='upper left')\n",
        "plt.show()\n",
        "# summarize history for loss\n",
        "plt.plot(history.history['loss'])\n",
        "plt.plot(history.history['val_loss'])\n",
        "plt.title('model loss')\n",
        "plt.ylabel('loss')\n",
        "plt.xlabel('epoch')\n",
        "plt.legend(['train', 'test'], loc='upper left')\n",
        "plt.show()"
      ]
    }
  ],
  "metadata": {
    "colab": {
      "name": "ki_ml_blatt_1.ipynb",
      "provenance": []
    },
    "interpreter": {
      "hash": "ad8259fb0131ae414e0fed75b17e89163033ec83dd8a20ff234b9709c1123196"
    },
    "kernelspec": {
      "display_name": "Python 3.9.4 64-bit",
      "language": "python",
      "name": "python3"
    },
    "language_info": {
      "codemirror_mode": {
        "name": "ipython",
        "version": 3
      },
      "file_extension": ".py",
      "mimetype": "text/x-python",
      "name": "python",
      "nbconvert_exporter": "python",
      "pygments_lexer": "ipython3",
      "version": "3.9.4"
    }
  },
  "nbformat": 4,
  "nbformat_minor": 0
}
